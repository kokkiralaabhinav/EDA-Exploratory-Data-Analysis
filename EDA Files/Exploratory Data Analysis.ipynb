{
  "nbformat": 4,
  "nbformat_minor": 0,
  "metadata": {
    "colab": {
      "name": "ML_Verzeo_Minor _PR.ipynb",
      "provenance": [],
      "collapsed_sections": [
        "lB7KH3YAxias"
      ]
    },
    "kernelspec": {
      "name": "python3",
      "display_name": "Python 3"
    },
    "language_info": {
      "name": "python"
    }
  },
  "cells": [
    {
      "cell_type": "markdown",
      "metadata": {
        "id": "H8qgnyukH09X"
      },
      "source": [
        "# **CLEAN DATA AND PERFORM EDA**"
      ]
    },
    {
      "cell_type": "code",
      "metadata": {
        "id": "X-Sk9-wuwVFY"
      },
      "source": [
        "import pandas as pd\n",
        "import numpy as np\n",
        "import matplotlib.pyplot as plt\n",
        "import seaborn as sns\n",
        " "
      ],
      "execution_count": 1,
      "outputs": []
    },
    {
      "cell_type": "code",
      "metadata": {
        "id": "X4MfjpuYyZhe",
        "colab": {
          "base_uri": "https://localhost:8080/",
          "height": 1000
        },
        "outputId": "a0264b08-c36d-4653-9419-f4c317a15205"
      },
      "source": [
        "df = pd.read_csv(\"/content/DataCoSupplyChainDataset.csv\", encoding =('ISO-8859-1'), low_memory = False)\n",
        "df"
      ],
      "execution_count": 2,
      "outputs": [
        {
          "output_type": "execute_result",
          "data": {
            "text/html": [
              "<div>\n",
              "<style scoped>\n",
              "    .dataframe tbody tr th:only-of-type {\n",
              "        vertical-align: middle;\n",
              "    }\n",
              "\n",
              "    .dataframe tbody tr th {\n",
              "        vertical-align: top;\n",
              "    }\n",
              "\n",
              "    .dataframe thead th {\n",
              "        text-align: right;\n",
              "    }\n",
              "</style>\n",
              "<table border=\"1\" class=\"dataframe\">\n",
              "  <thead>\n",
              "    <tr style=\"text-align: right;\">\n",
              "      <th></th>\n",
              "      <th>Type</th>\n",
              "      <th>Days for shipping (real)</th>\n",
              "      <th>Days for shipment (scheduled)</th>\n",
              "      <th>Benefit per order</th>\n",
              "      <th>Sales per customer</th>\n",
              "      <th>Delivery Status</th>\n",
              "      <th>Late_delivery_risk</th>\n",
              "      <th>Category Id</th>\n",
              "      <th>Category Name</th>\n",
              "      <th>Customer City</th>\n",
              "      <th>Customer Country</th>\n",
              "      <th>Customer Email</th>\n",
              "      <th>Customer Fname</th>\n",
              "      <th>Customer Id</th>\n",
              "      <th>Customer Lname</th>\n",
              "      <th>Customer Password</th>\n",
              "      <th>Customer Segment</th>\n",
              "      <th>Customer State</th>\n",
              "      <th>Customer Street</th>\n",
              "      <th>Customer Zipcode</th>\n",
              "      <th>Department Id</th>\n",
              "      <th>Department Name</th>\n",
              "      <th>Latitude</th>\n",
              "      <th>Longitude</th>\n",
              "      <th>Market</th>\n",
              "      <th>Order City</th>\n",
              "      <th>Order Country</th>\n",
              "      <th>Order Customer Id</th>\n",
              "      <th>order date (DateOrders)</th>\n",
              "      <th>Order Id</th>\n",
              "      <th>Order Item Cardprod Id</th>\n",
              "      <th>Order Item Discount</th>\n",
              "      <th>Order Item Discount Rate</th>\n",
              "      <th>Order Item Id</th>\n",
              "      <th>Order Item Product Price</th>\n",
              "      <th>Order Item Profit Ratio</th>\n",
              "      <th>Order Item Quantity</th>\n",
              "      <th>Sales</th>\n",
              "      <th>Order Item Total</th>\n",
              "      <th>Order Profit Per Order</th>\n",
              "      <th>Order Region</th>\n",
              "      <th>Order State</th>\n",
              "      <th>Order Status</th>\n",
              "      <th>Order Zipcode</th>\n",
              "      <th>Product Card Id</th>\n",
              "      <th>Product Category Id</th>\n",
              "      <th>Product Description</th>\n",
              "      <th>Product Image</th>\n",
              "      <th>Product Name</th>\n",
              "      <th>Product Price</th>\n",
              "      <th>Product Status</th>\n",
              "      <th>shipping date (DateOrders)</th>\n",
              "      <th>Shipping Mode</th>\n",
              "    </tr>\n",
              "  </thead>\n",
              "  <tbody>\n",
              "    <tr>\n",
              "      <th>0</th>\n",
              "      <td>DEBIT</td>\n",
              "      <td>3</td>\n",
              "      <td>4</td>\n",
              "      <td>91.250000</td>\n",
              "      <td>314.640015</td>\n",
              "      <td>Advance shipping</td>\n",
              "      <td>0</td>\n",
              "      <td>73</td>\n",
              "      <td>Sporting Goods</td>\n",
              "      <td>Caguas</td>\n",
              "      <td>Puerto Rico</td>\n",
              "      <td>XXXXXXXXX</td>\n",
              "      <td>Cally</td>\n",
              "      <td>20755</td>\n",
              "      <td>Holloway</td>\n",
              "      <td>XXXXXXXXX</td>\n",
              "      <td>Consumer</td>\n",
              "      <td>PR</td>\n",
              "      <td>5365 Noble Nectar Island</td>\n",
              "      <td>725.0</td>\n",
              "      <td>2</td>\n",
              "      <td>Fitness</td>\n",
              "      <td>18.251453</td>\n",
              "      <td>-66.037056</td>\n",
              "      <td>Pacific Asia</td>\n",
              "      <td>Bekasi</td>\n",
              "      <td>Indonesia</td>\n",
              "      <td>20755</td>\n",
              "      <td>1/31/2018 22:56</td>\n",
              "      <td>77202</td>\n",
              "      <td>1360</td>\n",
              "      <td>13.110000</td>\n",
              "      <td>0.04</td>\n",
              "      <td>180517</td>\n",
              "      <td>327.750000</td>\n",
              "      <td>0.29</td>\n",
              "      <td>1</td>\n",
              "      <td>327.750000</td>\n",
              "      <td>314.640015</td>\n",
              "      <td>91.250000</td>\n",
              "      <td>Southeast Asia</td>\n",
              "      <td>Java Occidental</td>\n",
              "      <td>COMPLETE</td>\n",
              "      <td>NaN</td>\n",
              "      <td>1360</td>\n",
              "      <td>73</td>\n",
              "      <td>NaN</td>\n",
              "      <td>http://images.acmesports.sports/Smart+watch</td>\n",
              "      <td>Smart watch</td>\n",
              "      <td>327.750000</td>\n",
              "      <td>0</td>\n",
              "      <td>02-03-2018 22:56</td>\n",
              "      <td>Standard Class</td>\n",
              "    </tr>\n",
              "    <tr>\n",
              "      <th>1</th>\n",
              "      <td>TRANSFER</td>\n",
              "      <td>5</td>\n",
              "      <td>4</td>\n",
              "      <td>-249.089996</td>\n",
              "      <td>311.359985</td>\n",
              "      <td>Late delivery</td>\n",
              "      <td>1</td>\n",
              "      <td>73</td>\n",
              "      <td>Sporting Goods</td>\n",
              "      <td>Caguas</td>\n",
              "      <td>Puerto Rico</td>\n",
              "      <td>XXXXXXXXX</td>\n",
              "      <td>Irene</td>\n",
              "      <td>19492</td>\n",
              "      <td>Luna</td>\n",
              "      <td>XXXXXXXXX</td>\n",
              "      <td>Consumer</td>\n",
              "      <td>PR</td>\n",
              "      <td>2679 Rustic Loop</td>\n",
              "      <td>725.0</td>\n",
              "      <td>2</td>\n",
              "      <td>Fitness</td>\n",
              "      <td>18.279451</td>\n",
              "      <td>-66.037064</td>\n",
              "      <td>Pacific Asia</td>\n",
              "      <td>Bikaner</td>\n",
              "      <td>India</td>\n",
              "      <td>19492</td>\n",
              "      <td>1/13/2018 12:27</td>\n",
              "      <td>75939</td>\n",
              "      <td>1360</td>\n",
              "      <td>16.389999</td>\n",
              "      <td>0.05</td>\n",
              "      <td>179254</td>\n",
              "      <td>327.750000</td>\n",
              "      <td>-0.80</td>\n",
              "      <td>1</td>\n",
              "      <td>327.750000</td>\n",
              "      <td>311.359985</td>\n",
              "      <td>-249.089996</td>\n",
              "      <td>South Asia</td>\n",
              "      <td>Rajastán</td>\n",
              "      <td>PENDING</td>\n",
              "      <td>NaN</td>\n",
              "      <td>1360</td>\n",
              "      <td>73</td>\n",
              "      <td>NaN</td>\n",
              "      <td>http://images.acmesports.sports/Smart+watch</td>\n",
              "      <td>Smart watch</td>\n",
              "      <td>327.750000</td>\n",
              "      <td>0</td>\n",
              "      <td>1/18/2018 12:27</td>\n",
              "      <td>Standard Class</td>\n",
              "    </tr>\n",
              "    <tr>\n",
              "      <th>2</th>\n",
              "      <td>CASH</td>\n",
              "      <td>4</td>\n",
              "      <td>4</td>\n",
              "      <td>-247.779999</td>\n",
              "      <td>309.720001</td>\n",
              "      <td>Shipping on time</td>\n",
              "      <td>0</td>\n",
              "      <td>73</td>\n",
              "      <td>Sporting Goods</td>\n",
              "      <td>San Jose</td>\n",
              "      <td>EE. UU.</td>\n",
              "      <td>XXXXXXXXX</td>\n",
              "      <td>Gillian</td>\n",
              "      <td>19491</td>\n",
              "      <td>Maldonado</td>\n",
              "      <td>XXXXXXXXX</td>\n",
              "      <td>Consumer</td>\n",
              "      <td>CA</td>\n",
              "      <td>8510 Round Bear Gate</td>\n",
              "      <td>95125.0</td>\n",
              "      <td>2</td>\n",
              "      <td>Fitness</td>\n",
              "      <td>37.292233</td>\n",
              "      <td>-121.881279</td>\n",
              "      <td>Pacific Asia</td>\n",
              "      <td>Bikaner</td>\n",
              "      <td>India</td>\n",
              "      <td>19491</td>\n",
              "      <td>1/13/2018 12:06</td>\n",
              "      <td>75938</td>\n",
              "      <td>1360</td>\n",
              "      <td>18.030001</td>\n",
              "      <td>0.06</td>\n",
              "      <td>179253</td>\n",
              "      <td>327.750000</td>\n",
              "      <td>-0.80</td>\n",
              "      <td>1</td>\n",
              "      <td>327.750000</td>\n",
              "      <td>309.720001</td>\n",
              "      <td>-247.779999</td>\n",
              "      <td>South Asia</td>\n",
              "      <td>Rajastán</td>\n",
              "      <td>CLOSED</td>\n",
              "      <td>NaN</td>\n",
              "      <td>1360</td>\n",
              "      <td>73</td>\n",
              "      <td>NaN</td>\n",
              "      <td>http://images.acmesports.sports/Smart+watch</td>\n",
              "      <td>Smart watch</td>\n",
              "      <td>327.750000</td>\n",
              "      <td>0</td>\n",
              "      <td>1/17/2018 12:06</td>\n",
              "      <td>Standard Class</td>\n",
              "    </tr>\n",
              "    <tr>\n",
              "      <th>3</th>\n",
              "      <td>DEBIT</td>\n",
              "      <td>3</td>\n",
              "      <td>4</td>\n",
              "      <td>22.860001</td>\n",
              "      <td>304.809998</td>\n",
              "      <td>Advance shipping</td>\n",
              "      <td>0</td>\n",
              "      <td>73</td>\n",
              "      <td>Sporting Goods</td>\n",
              "      <td>Los Angeles</td>\n",
              "      <td>EE. UU.</td>\n",
              "      <td>XXXXXXXXX</td>\n",
              "      <td>Tana</td>\n",
              "      <td>19490</td>\n",
              "      <td>Tate</td>\n",
              "      <td>XXXXXXXXX</td>\n",
              "      <td>Home Office</td>\n",
              "      <td>CA</td>\n",
              "      <td>3200 Amber Bend</td>\n",
              "      <td>90027.0</td>\n",
              "      <td>2</td>\n",
              "      <td>Fitness</td>\n",
              "      <td>34.125946</td>\n",
              "      <td>-118.291016</td>\n",
              "      <td>Pacific Asia</td>\n",
              "      <td>Townsville</td>\n",
              "      <td>Australia</td>\n",
              "      <td>19490</td>\n",
              "      <td>1/13/2018 11:45</td>\n",
              "      <td>75937</td>\n",
              "      <td>1360</td>\n",
              "      <td>22.940001</td>\n",
              "      <td>0.07</td>\n",
              "      <td>179252</td>\n",
              "      <td>327.750000</td>\n",
              "      <td>0.08</td>\n",
              "      <td>1</td>\n",
              "      <td>327.750000</td>\n",
              "      <td>304.809998</td>\n",
              "      <td>22.860001</td>\n",
              "      <td>Oceania</td>\n",
              "      <td>Queensland</td>\n",
              "      <td>COMPLETE</td>\n",
              "      <td>NaN</td>\n",
              "      <td>1360</td>\n",
              "      <td>73</td>\n",
              "      <td>NaN</td>\n",
              "      <td>http://images.acmesports.sports/Smart+watch</td>\n",
              "      <td>Smart watch</td>\n",
              "      <td>327.750000</td>\n",
              "      <td>0</td>\n",
              "      <td>1/16/2018 11:45</td>\n",
              "      <td>Standard Class</td>\n",
              "    </tr>\n",
              "    <tr>\n",
              "      <th>4</th>\n",
              "      <td>PAYMENT</td>\n",
              "      <td>2</td>\n",
              "      <td>4</td>\n",
              "      <td>134.210007</td>\n",
              "      <td>298.250000</td>\n",
              "      <td>Advance shipping</td>\n",
              "      <td>0</td>\n",
              "      <td>73</td>\n",
              "      <td>Sporting Goods</td>\n",
              "      <td>Caguas</td>\n",
              "      <td>Puerto Rico</td>\n",
              "      <td>XXXXXXXXX</td>\n",
              "      <td>Orli</td>\n",
              "      <td>19489</td>\n",
              "      <td>Hendricks</td>\n",
              "      <td>XXXXXXXXX</td>\n",
              "      <td>Corporate</td>\n",
              "      <td>PR</td>\n",
              "      <td>8671 Iron Anchor Corners</td>\n",
              "      <td>725.0</td>\n",
              "      <td>2</td>\n",
              "      <td>Fitness</td>\n",
              "      <td>18.253769</td>\n",
              "      <td>-66.037048</td>\n",
              "      <td>Pacific Asia</td>\n",
              "      <td>Townsville</td>\n",
              "      <td>Australia</td>\n",
              "      <td>19489</td>\n",
              "      <td>1/13/2018 11:24</td>\n",
              "      <td>75936</td>\n",
              "      <td>1360</td>\n",
              "      <td>29.500000</td>\n",
              "      <td>0.09</td>\n",
              "      <td>179251</td>\n",
              "      <td>327.750000</td>\n",
              "      <td>0.45</td>\n",
              "      <td>1</td>\n",
              "      <td>327.750000</td>\n",
              "      <td>298.250000</td>\n",
              "      <td>134.210007</td>\n",
              "      <td>Oceania</td>\n",
              "      <td>Queensland</td>\n",
              "      <td>PENDING_PAYMENT</td>\n",
              "      <td>NaN</td>\n",
              "      <td>1360</td>\n",
              "      <td>73</td>\n",
              "      <td>NaN</td>\n",
              "      <td>http://images.acmesports.sports/Smart+watch</td>\n",
              "      <td>Smart watch</td>\n",
              "      <td>327.750000</td>\n",
              "      <td>0</td>\n",
              "      <td>1/15/2018 11:24</td>\n",
              "      <td>Standard Class</td>\n",
              "    </tr>\n",
              "    <tr>\n",
              "      <th>...</th>\n",
              "      <td>...</td>\n",
              "      <td>...</td>\n",
              "      <td>...</td>\n",
              "      <td>...</td>\n",
              "      <td>...</td>\n",
              "      <td>...</td>\n",
              "      <td>...</td>\n",
              "      <td>...</td>\n",
              "      <td>...</td>\n",
              "      <td>...</td>\n",
              "      <td>...</td>\n",
              "      <td>...</td>\n",
              "      <td>...</td>\n",
              "      <td>...</td>\n",
              "      <td>...</td>\n",
              "      <td>...</td>\n",
              "      <td>...</td>\n",
              "      <td>...</td>\n",
              "      <td>...</td>\n",
              "      <td>...</td>\n",
              "      <td>...</td>\n",
              "      <td>...</td>\n",
              "      <td>...</td>\n",
              "      <td>...</td>\n",
              "      <td>...</td>\n",
              "      <td>...</td>\n",
              "      <td>...</td>\n",
              "      <td>...</td>\n",
              "      <td>...</td>\n",
              "      <td>...</td>\n",
              "      <td>...</td>\n",
              "      <td>...</td>\n",
              "      <td>...</td>\n",
              "      <td>...</td>\n",
              "      <td>...</td>\n",
              "      <td>...</td>\n",
              "      <td>...</td>\n",
              "      <td>...</td>\n",
              "      <td>...</td>\n",
              "      <td>...</td>\n",
              "      <td>...</td>\n",
              "      <td>...</td>\n",
              "      <td>...</td>\n",
              "      <td>...</td>\n",
              "      <td>...</td>\n",
              "      <td>...</td>\n",
              "      <td>...</td>\n",
              "      <td>...</td>\n",
              "      <td>...</td>\n",
              "      <td>...</td>\n",
              "      <td>...</td>\n",
              "      <td>...</td>\n",
              "      <td>...</td>\n",
              "    </tr>\n",
              "    <tr>\n",
              "      <th>180514</th>\n",
              "      <td>CASH</td>\n",
              "      <td>4</td>\n",
              "      <td>4</td>\n",
              "      <td>40.000000</td>\n",
              "      <td>399.980011</td>\n",
              "      <td>Shipping on time</td>\n",
              "      <td>0</td>\n",
              "      <td>45</td>\n",
              "      <td>Fishing</td>\n",
              "      <td>Brooklyn</td>\n",
              "      <td>EE. UU.</td>\n",
              "      <td>XXXXXXXXX</td>\n",
              "      <td>Maria</td>\n",
              "      <td>1005</td>\n",
              "      <td>Peterson</td>\n",
              "      <td>XXXXXXXXX</td>\n",
              "      <td>Home Office</td>\n",
              "      <td>NY</td>\n",
              "      <td>1322 Broad Glade</td>\n",
              "      <td>11207.0</td>\n",
              "      <td>7</td>\n",
              "      <td>Fan Shop</td>\n",
              "      <td>40.640930</td>\n",
              "      <td>-73.942711</td>\n",
              "      <td>Pacific Asia</td>\n",
              "      <td>Shanghái</td>\n",
              "      <td>China</td>\n",
              "      <td>1005</td>\n",
              "      <td>1/16/2016 3:40</td>\n",
              "      <td>26043</td>\n",
              "      <td>1004</td>\n",
              "      <td>0.000000</td>\n",
              "      <td>0.00</td>\n",
              "      <td>65177</td>\n",
              "      <td>399.980011</td>\n",
              "      <td>0.10</td>\n",
              "      <td>1</td>\n",
              "      <td>399.980011</td>\n",
              "      <td>399.980011</td>\n",
              "      <td>40.000000</td>\n",
              "      <td>Eastern Asia</td>\n",
              "      <td>Shanghái</td>\n",
              "      <td>CLOSED</td>\n",
              "      <td>NaN</td>\n",
              "      <td>1004</td>\n",
              "      <td>45</td>\n",
              "      <td>NaN</td>\n",
              "      <td>http://images.acmesports.sports/Field+%26+Stre...</td>\n",
              "      <td>Field &amp; Stream Sportsman 16 Gun Fire Safe</td>\n",
              "      <td>399.980011</td>\n",
              "      <td>0</td>\n",
              "      <td>1/20/2016 3:40</td>\n",
              "      <td>Standard Class</td>\n",
              "    </tr>\n",
              "    <tr>\n",
              "      <th>180515</th>\n",
              "      <td>DEBIT</td>\n",
              "      <td>3</td>\n",
              "      <td>2</td>\n",
              "      <td>-613.770019</td>\n",
              "      <td>395.980011</td>\n",
              "      <td>Late delivery</td>\n",
              "      <td>1</td>\n",
              "      <td>45</td>\n",
              "      <td>Fishing</td>\n",
              "      <td>Bakersfield</td>\n",
              "      <td>EE. UU.</td>\n",
              "      <td>XXXXXXXXX</td>\n",
              "      <td>Ronald</td>\n",
              "      <td>9141</td>\n",
              "      <td>Clark</td>\n",
              "      <td>XXXXXXXXX</td>\n",
              "      <td>Corporate</td>\n",
              "      <td>CA</td>\n",
              "      <td>7330 Broad Apple Moor</td>\n",
              "      <td>93304.0</td>\n",
              "      <td>7</td>\n",
              "      <td>Fan Shop</td>\n",
              "      <td>35.362545</td>\n",
              "      <td>-119.018700</td>\n",
              "      <td>Pacific Asia</td>\n",
              "      <td>Hirakata</td>\n",
              "      <td>Japón</td>\n",
              "      <td>9141</td>\n",
              "      <td>1/16/2016 1:34</td>\n",
              "      <td>26037</td>\n",
              "      <td>1004</td>\n",
              "      <td>4.000000</td>\n",
              "      <td>0.01</td>\n",
              "      <td>65161</td>\n",
              "      <td>399.980011</td>\n",
              "      <td>-1.55</td>\n",
              "      <td>1</td>\n",
              "      <td>399.980011</td>\n",
              "      <td>395.980011</td>\n",
              "      <td>-613.770019</td>\n",
              "      <td>Eastern Asia</td>\n",
              "      <td>Osaka</td>\n",
              "      <td>COMPLETE</td>\n",
              "      <td>NaN</td>\n",
              "      <td>1004</td>\n",
              "      <td>45</td>\n",
              "      <td>NaN</td>\n",
              "      <td>http://images.acmesports.sports/Field+%26+Stre...</td>\n",
              "      <td>Field &amp; Stream Sportsman 16 Gun Fire Safe</td>\n",
              "      <td>399.980011</td>\n",
              "      <td>0</td>\n",
              "      <td>1/19/2016 1:34</td>\n",
              "      <td>Second Class</td>\n",
              "    </tr>\n",
              "    <tr>\n",
              "      <th>180516</th>\n",
              "      <td>TRANSFER</td>\n",
              "      <td>5</td>\n",
              "      <td>4</td>\n",
              "      <td>141.110001</td>\n",
              "      <td>391.980011</td>\n",
              "      <td>Late delivery</td>\n",
              "      <td>1</td>\n",
              "      <td>45</td>\n",
              "      <td>Fishing</td>\n",
              "      <td>Bristol</td>\n",
              "      <td>EE. UU.</td>\n",
              "      <td>XXXXXXXXX</td>\n",
              "      <td>John</td>\n",
              "      <td>291</td>\n",
              "      <td>Smith</td>\n",
              "      <td>XXXXXXXXX</td>\n",
              "      <td>Corporate</td>\n",
              "      <td>CT</td>\n",
              "      <td>97 Burning Landing</td>\n",
              "      <td>6010.0</td>\n",
              "      <td>7</td>\n",
              "      <td>Fan Shop</td>\n",
              "      <td>41.629959</td>\n",
              "      <td>-72.967155</td>\n",
              "      <td>Pacific Asia</td>\n",
              "      <td>Adelaide</td>\n",
              "      <td>Australia</td>\n",
              "      <td>291</td>\n",
              "      <td>1/15/2016 21:00</td>\n",
              "      <td>26024</td>\n",
              "      <td>1004</td>\n",
              "      <td>8.000000</td>\n",
              "      <td>0.02</td>\n",
              "      <td>65129</td>\n",
              "      <td>399.980011</td>\n",
              "      <td>0.36</td>\n",
              "      <td>1</td>\n",
              "      <td>399.980011</td>\n",
              "      <td>391.980011</td>\n",
              "      <td>141.110001</td>\n",
              "      <td>Oceania</td>\n",
              "      <td>Australia del Sur</td>\n",
              "      <td>PENDING</td>\n",
              "      <td>NaN</td>\n",
              "      <td>1004</td>\n",
              "      <td>45</td>\n",
              "      <td>NaN</td>\n",
              "      <td>http://images.acmesports.sports/Field+%26+Stre...</td>\n",
              "      <td>Field &amp; Stream Sportsman 16 Gun Fire Safe</td>\n",
              "      <td>399.980011</td>\n",
              "      <td>0</td>\n",
              "      <td>1/20/2016 21:00</td>\n",
              "      <td>Standard Class</td>\n",
              "    </tr>\n",
              "    <tr>\n",
              "      <th>180517</th>\n",
              "      <td>PAYMENT</td>\n",
              "      <td>3</td>\n",
              "      <td>4</td>\n",
              "      <td>186.229996</td>\n",
              "      <td>387.980011</td>\n",
              "      <td>Advance shipping</td>\n",
              "      <td>0</td>\n",
              "      <td>45</td>\n",
              "      <td>Fishing</td>\n",
              "      <td>Caguas</td>\n",
              "      <td>Puerto Rico</td>\n",
              "      <td>XXXXXXXXX</td>\n",
              "      <td>Mary</td>\n",
              "      <td>2813</td>\n",
              "      <td>Smith</td>\n",
              "      <td>XXXXXXXXX</td>\n",
              "      <td>Consumer</td>\n",
              "      <td>PR</td>\n",
              "      <td>2585 Silent Autumn Landing</td>\n",
              "      <td>725.0</td>\n",
              "      <td>7</td>\n",
              "      <td>Fan Shop</td>\n",
              "      <td>18.213350</td>\n",
              "      <td>-66.370575</td>\n",
              "      <td>Pacific Asia</td>\n",
              "      <td>Adelaide</td>\n",
              "      <td>Australia</td>\n",
              "      <td>2813</td>\n",
              "      <td>1/15/2016 20:18</td>\n",
              "      <td>26022</td>\n",
              "      <td>1004</td>\n",
              "      <td>12.000000</td>\n",
              "      <td>0.03</td>\n",
              "      <td>65126</td>\n",
              "      <td>399.980011</td>\n",
              "      <td>0.48</td>\n",
              "      <td>1</td>\n",
              "      <td>399.980011</td>\n",
              "      <td>387.980011</td>\n",
              "      <td>186.229996</td>\n",
              "      <td>Oceania</td>\n",
              "      <td>Australia del Sur</td>\n",
              "      <td>PENDING_PAYMENT</td>\n",
              "      <td>NaN</td>\n",
              "      <td>1004</td>\n",
              "      <td>45</td>\n",
              "      <td>NaN</td>\n",
              "      <td>http://images.acmesports.sports/Field+%26+Stre...</td>\n",
              "      <td>Field &amp; Stream Sportsman 16 Gun Fire Safe</td>\n",
              "      <td>399.980011</td>\n",
              "      <td>0</td>\n",
              "      <td>1/18/2016 20:18</td>\n",
              "      <td>Standard Class</td>\n",
              "    </tr>\n",
              "    <tr>\n",
              "      <th>180518</th>\n",
              "      <td>PAYMENT</td>\n",
              "      <td>4</td>\n",
              "      <td>4</td>\n",
              "      <td>168.949997</td>\n",
              "      <td>383.980011</td>\n",
              "      <td>Shipping on time</td>\n",
              "      <td>0</td>\n",
              "      <td>45</td>\n",
              "      <td>Fishing</td>\n",
              "      <td>Caguas</td>\n",
              "      <td>Puerto Rico</td>\n",
              "      <td>XXXXXXXXX</td>\n",
              "      <td>Andrea</td>\n",
              "      <td>7547</td>\n",
              "      <td>Ortega</td>\n",
              "      <td>XXXXXXXXX</td>\n",
              "      <td>Consumer</td>\n",
              "      <td>PR</td>\n",
              "      <td>697 Little Meadow</td>\n",
              "      <td>725.0</td>\n",
              "      <td>7</td>\n",
              "      <td>Fan Shop</td>\n",
              "      <td>18.290380</td>\n",
              "      <td>-66.370613</td>\n",
              "      <td>Pacific Asia</td>\n",
              "      <td>Nagercoil</td>\n",
              "      <td>India</td>\n",
              "      <td>7547</td>\n",
              "      <td>1/15/2016 18:54</td>\n",
              "      <td>26018</td>\n",
              "      <td>1004</td>\n",
              "      <td>16.000000</td>\n",
              "      <td>0.04</td>\n",
              "      <td>65113</td>\n",
              "      <td>399.980011</td>\n",
              "      <td>0.44</td>\n",
              "      <td>1</td>\n",
              "      <td>399.980011</td>\n",
              "      <td>383.980011</td>\n",
              "      <td>168.949997</td>\n",
              "      <td>South Asia</td>\n",
              "      <td>Tamil Nadu</td>\n",
              "      <td>PENDING_PAYMENT</td>\n",
              "      <td>NaN</td>\n",
              "      <td>1004</td>\n",
              "      <td>45</td>\n",
              "      <td>NaN</td>\n",
              "      <td>http://images.acmesports.sports/Field+%26+Stre...</td>\n",
              "      <td>Field &amp; Stream Sportsman 16 Gun Fire Safe</td>\n",
              "      <td>399.980011</td>\n",
              "      <td>0</td>\n",
              "      <td>1/19/2016 18:54</td>\n",
              "      <td>Standard Class</td>\n",
              "    </tr>\n",
              "  </tbody>\n",
              "</table>\n",
              "<p>180519 rows × 53 columns</p>\n",
              "</div>"
            ],
            "text/plain": [
              "            Type  ...   Shipping Mode\n",
              "0          DEBIT  ...  Standard Class\n",
              "1       TRANSFER  ...  Standard Class\n",
              "2           CASH  ...  Standard Class\n",
              "3          DEBIT  ...  Standard Class\n",
              "4        PAYMENT  ...  Standard Class\n",
              "...          ...  ...             ...\n",
              "180514      CASH  ...  Standard Class\n",
              "180515     DEBIT  ...    Second Class\n",
              "180516  TRANSFER  ...  Standard Class\n",
              "180517   PAYMENT  ...  Standard Class\n",
              "180518   PAYMENT  ...  Standard Class\n",
              "\n",
              "[180519 rows x 53 columns]"
            ]
          },
          "metadata": {
            "tags": []
          },
          "execution_count": 2
        }
      ]
    },
    {
      "cell_type": "markdown",
      "metadata": {
        "id": "nnE61DZLJNyT"
      },
      "source": [
        "# 1. DATA VISUALIZATION\n"
      ]
    },
    {
      "cell_type": "code",
      "metadata": {
        "id": "8MttukhmHO73",
        "colab": {
          "base_uri": "https://localhost:8080/"
        },
        "outputId": "bf875362-9f83-4de3-ba12-a8b70e9e8ce3"
      },
      "source": [
        "df.shape"
      ],
      "execution_count": 3,
      "outputs": [
        {
          "output_type": "execute_result",
          "data": {
            "text/plain": [
              "(180519, 53)"
            ]
          },
          "metadata": {
            "tags": []
          },
          "execution_count": 3
        }
      ]
    },
    {
      "cell_type": "code",
      "metadata": {
        "id": "1JJq-Lf0zFrT",
        "colab": {
          "base_uri": "https://localhost:8080/",
          "height": 467
        },
        "outputId": "76d00986-0c81-4e72-ed97-59754fa965fd"
      },
      "source": [
        "df.head()"
      ],
      "execution_count": 4,
      "outputs": [
        {
          "output_type": "execute_result",
          "data": {
            "text/html": [
              "<div>\n",
              "<style scoped>\n",
              "    .dataframe tbody tr th:only-of-type {\n",
              "        vertical-align: middle;\n",
              "    }\n",
              "\n",
              "    .dataframe tbody tr th {\n",
              "        vertical-align: top;\n",
              "    }\n",
              "\n",
              "    .dataframe thead th {\n",
              "        text-align: right;\n",
              "    }\n",
              "</style>\n",
              "<table border=\"1\" class=\"dataframe\">\n",
              "  <thead>\n",
              "    <tr style=\"text-align: right;\">\n",
              "      <th></th>\n",
              "      <th>Type</th>\n",
              "      <th>Days for shipping (real)</th>\n",
              "      <th>Days for shipment (scheduled)</th>\n",
              "      <th>Benefit per order</th>\n",
              "      <th>Sales per customer</th>\n",
              "      <th>Delivery Status</th>\n",
              "      <th>Late_delivery_risk</th>\n",
              "      <th>Category Id</th>\n",
              "      <th>Category Name</th>\n",
              "      <th>Customer City</th>\n",
              "      <th>Customer Country</th>\n",
              "      <th>Customer Email</th>\n",
              "      <th>Customer Fname</th>\n",
              "      <th>Customer Id</th>\n",
              "      <th>Customer Lname</th>\n",
              "      <th>Customer Password</th>\n",
              "      <th>Customer Segment</th>\n",
              "      <th>Customer State</th>\n",
              "      <th>Customer Street</th>\n",
              "      <th>Customer Zipcode</th>\n",
              "      <th>Department Id</th>\n",
              "      <th>Department Name</th>\n",
              "      <th>Latitude</th>\n",
              "      <th>Longitude</th>\n",
              "      <th>Market</th>\n",
              "      <th>Order City</th>\n",
              "      <th>Order Country</th>\n",
              "      <th>Order Customer Id</th>\n",
              "      <th>order date (DateOrders)</th>\n",
              "      <th>Order Id</th>\n",
              "      <th>Order Item Cardprod Id</th>\n",
              "      <th>Order Item Discount</th>\n",
              "      <th>Order Item Discount Rate</th>\n",
              "      <th>Order Item Id</th>\n",
              "      <th>Order Item Product Price</th>\n",
              "      <th>Order Item Profit Ratio</th>\n",
              "      <th>Order Item Quantity</th>\n",
              "      <th>Sales</th>\n",
              "      <th>Order Item Total</th>\n",
              "      <th>Order Profit Per Order</th>\n",
              "      <th>Order Region</th>\n",
              "      <th>Order State</th>\n",
              "      <th>Order Status</th>\n",
              "      <th>Order Zipcode</th>\n",
              "      <th>Product Card Id</th>\n",
              "      <th>Product Category Id</th>\n",
              "      <th>Product Description</th>\n",
              "      <th>Product Image</th>\n",
              "      <th>Product Name</th>\n",
              "      <th>Product Price</th>\n",
              "      <th>Product Status</th>\n",
              "      <th>shipping date (DateOrders)</th>\n",
              "      <th>Shipping Mode</th>\n",
              "    </tr>\n",
              "  </thead>\n",
              "  <tbody>\n",
              "    <tr>\n",
              "      <th>0</th>\n",
              "      <td>DEBIT</td>\n",
              "      <td>3</td>\n",
              "      <td>4</td>\n",
              "      <td>91.250000</td>\n",
              "      <td>314.640015</td>\n",
              "      <td>Advance shipping</td>\n",
              "      <td>0</td>\n",
              "      <td>73</td>\n",
              "      <td>Sporting Goods</td>\n",
              "      <td>Caguas</td>\n",
              "      <td>Puerto Rico</td>\n",
              "      <td>XXXXXXXXX</td>\n",
              "      <td>Cally</td>\n",
              "      <td>20755</td>\n",
              "      <td>Holloway</td>\n",
              "      <td>XXXXXXXXX</td>\n",
              "      <td>Consumer</td>\n",
              "      <td>PR</td>\n",
              "      <td>5365 Noble Nectar Island</td>\n",
              "      <td>725.0</td>\n",
              "      <td>2</td>\n",
              "      <td>Fitness</td>\n",
              "      <td>18.251453</td>\n",
              "      <td>-66.037056</td>\n",
              "      <td>Pacific Asia</td>\n",
              "      <td>Bekasi</td>\n",
              "      <td>Indonesia</td>\n",
              "      <td>20755</td>\n",
              "      <td>1/31/2018 22:56</td>\n",
              "      <td>77202</td>\n",
              "      <td>1360</td>\n",
              "      <td>13.110000</td>\n",
              "      <td>0.04</td>\n",
              "      <td>180517</td>\n",
              "      <td>327.75</td>\n",
              "      <td>0.29</td>\n",
              "      <td>1</td>\n",
              "      <td>327.75</td>\n",
              "      <td>314.640015</td>\n",
              "      <td>91.250000</td>\n",
              "      <td>Southeast Asia</td>\n",
              "      <td>Java Occidental</td>\n",
              "      <td>COMPLETE</td>\n",
              "      <td>NaN</td>\n",
              "      <td>1360</td>\n",
              "      <td>73</td>\n",
              "      <td>NaN</td>\n",
              "      <td>http://images.acmesports.sports/Smart+watch</td>\n",
              "      <td>Smart watch</td>\n",
              "      <td>327.75</td>\n",
              "      <td>0</td>\n",
              "      <td>02-03-2018 22:56</td>\n",
              "      <td>Standard Class</td>\n",
              "    </tr>\n",
              "    <tr>\n",
              "      <th>1</th>\n",
              "      <td>TRANSFER</td>\n",
              "      <td>5</td>\n",
              "      <td>4</td>\n",
              "      <td>-249.089996</td>\n",
              "      <td>311.359985</td>\n",
              "      <td>Late delivery</td>\n",
              "      <td>1</td>\n",
              "      <td>73</td>\n",
              "      <td>Sporting Goods</td>\n",
              "      <td>Caguas</td>\n",
              "      <td>Puerto Rico</td>\n",
              "      <td>XXXXXXXXX</td>\n",
              "      <td>Irene</td>\n",
              "      <td>19492</td>\n",
              "      <td>Luna</td>\n",
              "      <td>XXXXXXXXX</td>\n",
              "      <td>Consumer</td>\n",
              "      <td>PR</td>\n",
              "      <td>2679 Rustic Loop</td>\n",
              "      <td>725.0</td>\n",
              "      <td>2</td>\n",
              "      <td>Fitness</td>\n",
              "      <td>18.279451</td>\n",
              "      <td>-66.037064</td>\n",
              "      <td>Pacific Asia</td>\n",
              "      <td>Bikaner</td>\n",
              "      <td>India</td>\n",
              "      <td>19492</td>\n",
              "      <td>1/13/2018 12:27</td>\n",
              "      <td>75939</td>\n",
              "      <td>1360</td>\n",
              "      <td>16.389999</td>\n",
              "      <td>0.05</td>\n",
              "      <td>179254</td>\n",
              "      <td>327.75</td>\n",
              "      <td>-0.80</td>\n",
              "      <td>1</td>\n",
              "      <td>327.75</td>\n",
              "      <td>311.359985</td>\n",
              "      <td>-249.089996</td>\n",
              "      <td>South Asia</td>\n",
              "      <td>Rajastán</td>\n",
              "      <td>PENDING</td>\n",
              "      <td>NaN</td>\n",
              "      <td>1360</td>\n",
              "      <td>73</td>\n",
              "      <td>NaN</td>\n",
              "      <td>http://images.acmesports.sports/Smart+watch</td>\n",
              "      <td>Smart watch</td>\n",
              "      <td>327.75</td>\n",
              "      <td>0</td>\n",
              "      <td>1/18/2018 12:27</td>\n",
              "      <td>Standard Class</td>\n",
              "    </tr>\n",
              "    <tr>\n",
              "      <th>2</th>\n",
              "      <td>CASH</td>\n",
              "      <td>4</td>\n",
              "      <td>4</td>\n",
              "      <td>-247.779999</td>\n",
              "      <td>309.720001</td>\n",
              "      <td>Shipping on time</td>\n",
              "      <td>0</td>\n",
              "      <td>73</td>\n",
              "      <td>Sporting Goods</td>\n",
              "      <td>San Jose</td>\n",
              "      <td>EE. UU.</td>\n",
              "      <td>XXXXXXXXX</td>\n",
              "      <td>Gillian</td>\n",
              "      <td>19491</td>\n",
              "      <td>Maldonado</td>\n",
              "      <td>XXXXXXXXX</td>\n",
              "      <td>Consumer</td>\n",
              "      <td>CA</td>\n",
              "      <td>8510 Round Bear Gate</td>\n",
              "      <td>95125.0</td>\n",
              "      <td>2</td>\n",
              "      <td>Fitness</td>\n",
              "      <td>37.292233</td>\n",
              "      <td>-121.881279</td>\n",
              "      <td>Pacific Asia</td>\n",
              "      <td>Bikaner</td>\n",
              "      <td>India</td>\n",
              "      <td>19491</td>\n",
              "      <td>1/13/2018 12:06</td>\n",
              "      <td>75938</td>\n",
              "      <td>1360</td>\n",
              "      <td>18.030001</td>\n",
              "      <td>0.06</td>\n",
              "      <td>179253</td>\n",
              "      <td>327.75</td>\n",
              "      <td>-0.80</td>\n",
              "      <td>1</td>\n",
              "      <td>327.75</td>\n",
              "      <td>309.720001</td>\n",
              "      <td>-247.779999</td>\n",
              "      <td>South Asia</td>\n",
              "      <td>Rajastán</td>\n",
              "      <td>CLOSED</td>\n",
              "      <td>NaN</td>\n",
              "      <td>1360</td>\n",
              "      <td>73</td>\n",
              "      <td>NaN</td>\n",
              "      <td>http://images.acmesports.sports/Smart+watch</td>\n",
              "      <td>Smart watch</td>\n",
              "      <td>327.75</td>\n",
              "      <td>0</td>\n",
              "      <td>1/17/2018 12:06</td>\n",
              "      <td>Standard Class</td>\n",
              "    </tr>\n",
              "    <tr>\n",
              "      <th>3</th>\n",
              "      <td>DEBIT</td>\n",
              "      <td>3</td>\n",
              "      <td>4</td>\n",
              "      <td>22.860001</td>\n",
              "      <td>304.809998</td>\n",
              "      <td>Advance shipping</td>\n",
              "      <td>0</td>\n",
              "      <td>73</td>\n",
              "      <td>Sporting Goods</td>\n",
              "      <td>Los Angeles</td>\n",
              "      <td>EE. UU.</td>\n",
              "      <td>XXXXXXXXX</td>\n",
              "      <td>Tana</td>\n",
              "      <td>19490</td>\n",
              "      <td>Tate</td>\n",
              "      <td>XXXXXXXXX</td>\n",
              "      <td>Home Office</td>\n",
              "      <td>CA</td>\n",
              "      <td>3200 Amber Bend</td>\n",
              "      <td>90027.0</td>\n",
              "      <td>2</td>\n",
              "      <td>Fitness</td>\n",
              "      <td>34.125946</td>\n",
              "      <td>-118.291016</td>\n",
              "      <td>Pacific Asia</td>\n",
              "      <td>Townsville</td>\n",
              "      <td>Australia</td>\n",
              "      <td>19490</td>\n",
              "      <td>1/13/2018 11:45</td>\n",
              "      <td>75937</td>\n",
              "      <td>1360</td>\n",
              "      <td>22.940001</td>\n",
              "      <td>0.07</td>\n",
              "      <td>179252</td>\n",
              "      <td>327.75</td>\n",
              "      <td>0.08</td>\n",
              "      <td>1</td>\n",
              "      <td>327.75</td>\n",
              "      <td>304.809998</td>\n",
              "      <td>22.860001</td>\n",
              "      <td>Oceania</td>\n",
              "      <td>Queensland</td>\n",
              "      <td>COMPLETE</td>\n",
              "      <td>NaN</td>\n",
              "      <td>1360</td>\n",
              "      <td>73</td>\n",
              "      <td>NaN</td>\n",
              "      <td>http://images.acmesports.sports/Smart+watch</td>\n",
              "      <td>Smart watch</td>\n",
              "      <td>327.75</td>\n",
              "      <td>0</td>\n",
              "      <td>1/16/2018 11:45</td>\n",
              "      <td>Standard Class</td>\n",
              "    </tr>\n",
              "    <tr>\n",
              "      <th>4</th>\n",
              "      <td>PAYMENT</td>\n",
              "      <td>2</td>\n",
              "      <td>4</td>\n",
              "      <td>134.210007</td>\n",
              "      <td>298.250000</td>\n",
              "      <td>Advance shipping</td>\n",
              "      <td>0</td>\n",
              "      <td>73</td>\n",
              "      <td>Sporting Goods</td>\n",
              "      <td>Caguas</td>\n",
              "      <td>Puerto Rico</td>\n",
              "      <td>XXXXXXXXX</td>\n",
              "      <td>Orli</td>\n",
              "      <td>19489</td>\n",
              "      <td>Hendricks</td>\n",
              "      <td>XXXXXXXXX</td>\n",
              "      <td>Corporate</td>\n",
              "      <td>PR</td>\n",
              "      <td>8671 Iron Anchor Corners</td>\n",
              "      <td>725.0</td>\n",
              "      <td>2</td>\n",
              "      <td>Fitness</td>\n",
              "      <td>18.253769</td>\n",
              "      <td>-66.037048</td>\n",
              "      <td>Pacific Asia</td>\n",
              "      <td>Townsville</td>\n",
              "      <td>Australia</td>\n",
              "      <td>19489</td>\n",
              "      <td>1/13/2018 11:24</td>\n",
              "      <td>75936</td>\n",
              "      <td>1360</td>\n",
              "      <td>29.500000</td>\n",
              "      <td>0.09</td>\n",
              "      <td>179251</td>\n",
              "      <td>327.75</td>\n",
              "      <td>0.45</td>\n",
              "      <td>1</td>\n",
              "      <td>327.75</td>\n",
              "      <td>298.250000</td>\n",
              "      <td>134.210007</td>\n",
              "      <td>Oceania</td>\n",
              "      <td>Queensland</td>\n",
              "      <td>PENDING_PAYMENT</td>\n",
              "      <td>NaN</td>\n",
              "      <td>1360</td>\n",
              "      <td>73</td>\n",
              "      <td>NaN</td>\n",
              "      <td>http://images.acmesports.sports/Smart+watch</td>\n",
              "      <td>Smart watch</td>\n",
              "      <td>327.75</td>\n",
              "      <td>0</td>\n",
              "      <td>1/15/2018 11:24</td>\n",
              "      <td>Standard Class</td>\n",
              "    </tr>\n",
              "  </tbody>\n",
              "</table>\n",
              "</div>"
            ],
            "text/plain": [
              "       Type  ...   Shipping Mode\n",
              "0     DEBIT  ...  Standard Class\n",
              "1  TRANSFER  ...  Standard Class\n",
              "2      CASH  ...  Standard Class\n",
              "3     DEBIT  ...  Standard Class\n",
              "4   PAYMENT  ...  Standard Class\n",
              "\n",
              "[5 rows x 53 columns]"
            ]
          },
          "metadata": {
            "tags": []
          },
          "execution_count": 4
        }
      ]
    },
    {
      "cell_type": "code",
      "metadata": {
        "id": "l8-79yaFFZJD",
        "colab": {
          "base_uri": "https://localhost:8080/"
        },
        "outputId": "19a3efe3-d156-4792-c26b-65db05031f6e"
      },
      "source": [
        "df.info()"
      ],
      "execution_count": 5,
      "outputs": [
        {
          "output_type": "stream",
          "text": [
            "<class 'pandas.core.frame.DataFrame'>\n",
            "RangeIndex: 180519 entries, 0 to 180518\n",
            "Data columns (total 53 columns):\n",
            " #   Column                         Non-Null Count   Dtype  \n",
            "---  ------                         --------------   -----  \n",
            " 0   Type                           180519 non-null  object \n",
            " 1   Days for shipping (real)       180519 non-null  int64  \n",
            " 2   Days for shipment (scheduled)  180519 non-null  int64  \n",
            " 3   Benefit per order              180519 non-null  float64\n",
            " 4   Sales per customer             180519 non-null  float64\n",
            " 5   Delivery Status                180519 non-null  object \n",
            " 6   Late_delivery_risk             180519 non-null  int64  \n",
            " 7   Category Id                    180519 non-null  int64  \n",
            " 8   Category Name                  180519 non-null  object \n",
            " 9   Customer City                  180519 non-null  object \n",
            " 10  Customer Country               180519 non-null  object \n",
            " 11  Customer Email                 180519 non-null  object \n",
            " 12  Customer Fname                 180519 non-null  object \n",
            " 13  Customer Id                    180519 non-null  int64  \n",
            " 14  Customer Lname                 180511 non-null  object \n",
            " 15  Customer Password              180519 non-null  object \n",
            " 16  Customer Segment               180519 non-null  object \n",
            " 17  Customer State                 180519 non-null  object \n",
            " 18  Customer Street                180519 non-null  object \n",
            " 19  Customer Zipcode               180516 non-null  float64\n",
            " 20  Department Id                  180519 non-null  int64  \n",
            " 21  Department Name                180519 non-null  object \n",
            " 22  Latitude                       180519 non-null  float64\n",
            " 23  Longitude                      180519 non-null  float64\n",
            " 24  Market                         180519 non-null  object \n",
            " 25  Order City                     180519 non-null  object \n",
            " 26  Order Country                  180519 non-null  object \n",
            " 27  Order Customer Id              180519 non-null  int64  \n",
            " 28  order date (DateOrders)        180519 non-null  object \n",
            " 29  Order Id                       180519 non-null  int64  \n",
            " 30  Order Item Cardprod Id         180519 non-null  int64  \n",
            " 31  Order Item Discount            180519 non-null  float64\n",
            " 32  Order Item Discount Rate       180519 non-null  float64\n",
            " 33  Order Item Id                  180519 non-null  int64  \n",
            " 34  Order Item Product Price       180519 non-null  float64\n",
            " 35  Order Item Profit Ratio        180519 non-null  float64\n",
            " 36  Order Item Quantity            180519 non-null  int64  \n",
            " 37  Sales                          180519 non-null  float64\n",
            " 38  Order Item Total               180519 non-null  float64\n",
            " 39  Order Profit Per Order         180519 non-null  float64\n",
            " 40  Order Region                   180519 non-null  object \n",
            " 41  Order State                    180519 non-null  object \n",
            " 42  Order Status                   180519 non-null  object \n",
            " 43  Order Zipcode                  24840 non-null   float64\n",
            " 44  Product Card Id                180519 non-null  int64  \n",
            " 45  Product Category Id            180519 non-null  int64  \n",
            " 46  Product Description            0 non-null       float64\n",
            " 47  Product Image                  180519 non-null  object \n",
            " 48  Product Name                   180519 non-null  object \n",
            " 49  Product Price                  180519 non-null  float64\n",
            " 50  Product Status                 180519 non-null  int64  \n",
            " 51  shipping date (DateOrders)     180519 non-null  object \n",
            " 52  Shipping Mode                  180519 non-null  object \n",
            "dtypes: float64(15), int64(14), object(24)\n",
            "memory usage: 73.0+ MB\n"
          ],
          "name": "stdout"
        }
      ]
    },
    {
      "cell_type": "code",
      "metadata": {
        "id": "p2Wih-N7FZei",
        "colab": {
          "base_uri": "https://localhost:8080/",
          "height": 339
        },
        "outputId": "b8e4496e-aac6-4a3b-c044-c8f59ee46ebe"
      },
      "source": [
        "df.describe()"
      ],
      "execution_count": 6,
      "outputs": [
        {
          "output_type": "execute_result",
          "data": {
            "text/html": [
              "<div>\n",
              "<style scoped>\n",
              "    .dataframe tbody tr th:only-of-type {\n",
              "        vertical-align: middle;\n",
              "    }\n",
              "\n",
              "    .dataframe tbody tr th {\n",
              "        vertical-align: top;\n",
              "    }\n",
              "\n",
              "    .dataframe thead th {\n",
              "        text-align: right;\n",
              "    }\n",
              "</style>\n",
              "<table border=\"1\" class=\"dataframe\">\n",
              "  <thead>\n",
              "    <tr style=\"text-align: right;\">\n",
              "      <th></th>\n",
              "      <th>Days for shipping (real)</th>\n",
              "      <th>Days for shipment (scheduled)</th>\n",
              "      <th>Benefit per order</th>\n",
              "      <th>Sales per customer</th>\n",
              "      <th>Late_delivery_risk</th>\n",
              "      <th>Category Id</th>\n",
              "      <th>Customer Id</th>\n",
              "      <th>Customer Zipcode</th>\n",
              "      <th>Department Id</th>\n",
              "      <th>Latitude</th>\n",
              "      <th>Longitude</th>\n",
              "      <th>Order Customer Id</th>\n",
              "      <th>Order Id</th>\n",
              "      <th>Order Item Cardprod Id</th>\n",
              "      <th>Order Item Discount</th>\n",
              "      <th>Order Item Discount Rate</th>\n",
              "      <th>Order Item Id</th>\n",
              "      <th>Order Item Product Price</th>\n",
              "      <th>Order Item Profit Ratio</th>\n",
              "      <th>Order Item Quantity</th>\n",
              "      <th>Sales</th>\n",
              "      <th>Order Item Total</th>\n",
              "      <th>Order Profit Per Order</th>\n",
              "      <th>Order Zipcode</th>\n",
              "      <th>Product Card Id</th>\n",
              "      <th>Product Category Id</th>\n",
              "      <th>Product Description</th>\n",
              "      <th>Product Price</th>\n",
              "      <th>Product Status</th>\n",
              "    </tr>\n",
              "  </thead>\n",
              "  <tbody>\n",
              "    <tr>\n",
              "      <th>count</th>\n",
              "      <td>180519.000000</td>\n",
              "      <td>180519.000000</td>\n",
              "      <td>180519.000000</td>\n",
              "      <td>180519.000000</td>\n",
              "      <td>180519.000000</td>\n",
              "      <td>180519.000000</td>\n",
              "      <td>180519.000000</td>\n",
              "      <td>180516.000000</td>\n",
              "      <td>180519.000000</td>\n",
              "      <td>180519.000000</td>\n",
              "      <td>180519.000000</td>\n",
              "      <td>180519.000000</td>\n",
              "      <td>180519.000000</td>\n",
              "      <td>180519.000000</td>\n",
              "      <td>180519.000000</td>\n",
              "      <td>180519.000000</td>\n",
              "      <td>180519.000000</td>\n",
              "      <td>180519.000000</td>\n",
              "      <td>180519.000000</td>\n",
              "      <td>180519.000000</td>\n",
              "      <td>180519.000000</td>\n",
              "      <td>180519.000000</td>\n",
              "      <td>180519.000000</td>\n",
              "      <td>24840.000000</td>\n",
              "      <td>180519.000000</td>\n",
              "      <td>180519.000000</td>\n",
              "      <td>0.0</td>\n",
              "      <td>180519.000000</td>\n",
              "      <td>180519.0</td>\n",
              "    </tr>\n",
              "    <tr>\n",
              "      <th>mean</th>\n",
              "      <td>3.497654</td>\n",
              "      <td>2.931847</td>\n",
              "      <td>21.974989</td>\n",
              "      <td>183.107609</td>\n",
              "      <td>0.548291</td>\n",
              "      <td>31.851451</td>\n",
              "      <td>6691.379495</td>\n",
              "      <td>35921.126914</td>\n",
              "      <td>5.443460</td>\n",
              "      <td>29.719955</td>\n",
              "      <td>-84.915675</td>\n",
              "      <td>6691.379495</td>\n",
              "      <td>36221.894903</td>\n",
              "      <td>692.509764</td>\n",
              "      <td>20.664741</td>\n",
              "      <td>0.101668</td>\n",
              "      <td>90260.000000</td>\n",
              "      <td>141.232550</td>\n",
              "      <td>0.120647</td>\n",
              "      <td>2.127638</td>\n",
              "      <td>203.772096</td>\n",
              "      <td>183.107609</td>\n",
              "      <td>21.974989</td>\n",
              "      <td>55426.132327</td>\n",
              "      <td>692.509764</td>\n",
              "      <td>31.851451</td>\n",
              "      <td>NaN</td>\n",
              "      <td>141.232550</td>\n",
              "      <td>0.0</td>\n",
              "    </tr>\n",
              "    <tr>\n",
              "      <th>std</th>\n",
              "      <td>1.623722</td>\n",
              "      <td>1.374449</td>\n",
              "      <td>104.433526</td>\n",
              "      <td>120.043670</td>\n",
              "      <td>0.497664</td>\n",
              "      <td>15.640064</td>\n",
              "      <td>4162.918106</td>\n",
              "      <td>37542.461122</td>\n",
              "      <td>1.629246</td>\n",
              "      <td>9.813646</td>\n",
              "      <td>21.433241</td>\n",
              "      <td>4162.918106</td>\n",
              "      <td>21045.379569</td>\n",
              "      <td>336.446807</td>\n",
              "      <td>21.800901</td>\n",
              "      <td>0.070415</td>\n",
              "      <td>52111.490959</td>\n",
              "      <td>139.732492</td>\n",
              "      <td>0.466796</td>\n",
              "      <td>1.453451</td>\n",
              "      <td>132.273077</td>\n",
              "      <td>120.043670</td>\n",
              "      <td>104.433526</td>\n",
              "      <td>31919.279101</td>\n",
              "      <td>336.446807</td>\n",
              "      <td>15.640064</td>\n",
              "      <td>NaN</td>\n",
              "      <td>139.732492</td>\n",
              "      <td>0.0</td>\n",
              "    </tr>\n",
              "    <tr>\n",
              "      <th>min</th>\n",
              "      <td>0.000000</td>\n",
              "      <td>0.000000</td>\n",
              "      <td>-4274.979980</td>\n",
              "      <td>7.490000</td>\n",
              "      <td>0.000000</td>\n",
              "      <td>2.000000</td>\n",
              "      <td>1.000000</td>\n",
              "      <td>603.000000</td>\n",
              "      <td>2.000000</td>\n",
              "      <td>-33.937553</td>\n",
              "      <td>-158.025986</td>\n",
              "      <td>1.000000</td>\n",
              "      <td>1.000000</td>\n",
              "      <td>19.000000</td>\n",
              "      <td>0.000000</td>\n",
              "      <td>0.000000</td>\n",
              "      <td>1.000000</td>\n",
              "      <td>9.990000</td>\n",
              "      <td>-2.750000</td>\n",
              "      <td>1.000000</td>\n",
              "      <td>9.990000</td>\n",
              "      <td>7.490000</td>\n",
              "      <td>-4274.979980</td>\n",
              "      <td>1040.000000</td>\n",
              "      <td>19.000000</td>\n",
              "      <td>2.000000</td>\n",
              "      <td>NaN</td>\n",
              "      <td>9.990000</td>\n",
              "      <td>0.0</td>\n",
              "    </tr>\n",
              "    <tr>\n",
              "      <th>25%</th>\n",
              "      <td>2.000000</td>\n",
              "      <td>2.000000</td>\n",
              "      <td>7.000000</td>\n",
              "      <td>104.379997</td>\n",
              "      <td>0.000000</td>\n",
              "      <td>18.000000</td>\n",
              "      <td>3258.500000</td>\n",
              "      <td>725.000000</td>\n",
              "      <td>4.000000</td>\n",
              "      <td>18.265432</td>\n",
              "      <td>-98.446312</td>\n",
              "      <td>3258.500000</td>\n",
              "      <td>18057.000000</td>\n",
              "      <td>403.000000</td>\n",
              "      <td>5.400000</td>\n",
              "      <td>0.040000</td>\n",
              "      <td>45130.500000</td>\n",
              "      <td>50.000000</td>\n",
              "      <td>0.080000</td>\n",
              "      <td>1.000000</td>\n",
              "      <td>119.980003</td>\n",
              "      <td>104.379997</td>\n",
              "      <td>7.000000</td>\n",
              "      <td>23464.000000</td>\n",
              "      <td>403.000000</td>\n",
              "      <td>18.000000</td>\n",
              "      <td>NaN</td>\n",
              "      <td>50.000000</td>\n",
              "      <td>0.0</td>\n",
              "    </tr>\n",
              "    <tr>\n",
              "      <th>50%</th>\n",
              "      <td>3.000000</td>\n",
              "      <td>4.000000</td>\n",
              "      <td>31.520000</td>\n",
              "      <td>163.990005</td>\n",
              "      <td>1.000000</td>\n",
              "      <td>29.000000</td>\n",
              "      <td>6457.000000</td>\n",
              "      <td>19380.000000</td>\n",
              "      <td>5.000000</td>\n",
              "      <td>33.144863</td>\n",
              "      <td>-76.847908</td>\n",
              "      <td>6457.000000</td>\n",
              "      <td>36140.000000</td>\n",
              "      <td>627.000000</td>\n",
              "      <td>14.000000</td>\n",
              "      <td>0.100000</td>\n",
              "      <td>90260.000000</td>\n",
              "      <td>59.990002</td>\n",
              "      <td>0.270000</td>\n",
              "      <td>1.000000</td>\n",
              "      <td>199.919998</td>\n",
              "      <td>163.990005</td>\n",
              "      <td>31.520000</td>\n",
              "      <td>59405.000000</td>\n",
              "      <td>627.000000</td>\n",
              "      <td>29.000000</td>\n",
              "      <td>NaN</td>\n",
              "      <td>59.990002</td>\n",
              "      <td>0.0</td>\n",
              "    </tr>\n",
              "    <tr>\n",
              "      <th>75%</th>\n",
              "      <td>5.000000</td>\n",
              "      <td>4.000000</td>\n",
              "      <td>64.800003</td>\n",
              "      <td>247.399994</td>\n",
              "      <td>1.000000</td>\n",
              "      <td>45.000000</td>\n",
              "      <td>9779.000000</td>\n",
              "      <td>78207.000000</td>\n",
              "      <td>7.000000</td>\n",
              "      <td>39.279617</td>\n",
              "      <td>-66.370583</td>\n",
              "      <td>9779.000000</td>\n",
              "      <td>54144.000000</td>\n",
              "      <td>1004.000000</td>\n",
              "      <td>29.990000</td>\n",
              "      <td>0.160000</td>\n",
              "      <td>135389.500000</td>\n",
              "      <td>199.990005</td>\n",
              "      <td>0.360000</td>\n",
              "      <td>3.000000</td>\n",
              "      <td>299.950012</td>\n",
              "      <td>247.399994</td>\n",
              "      <td>64.800003</td>\n",
              "      <td>90008.000000</td>\n",
              "      <td>1004.000000</td>\n",
              "      <td>45.000000</td>\n",
              "      <td>NaN</td>\n",
              "      <td>199.990005</td>\n",
              "      <td>0.0</td>\n",
              "    </tr>\n",
              "    <tr>\n",
              "      <th>max</th>\n",
              "      <td>6.000000</td>\n",
              "      <td>4.000000</td>\n",
              "      <td>911.799988</td>\n",
              "      <td>1939.989990</td>\n",
              "      <td>1.000000</td>\n",
              "      <td>76.000000</td>\n",
              "      <td>20757.000000</td>\n",
              "      <td>99205.000000</td>\n",
              "      <td>12.000000</td>\n",
              "      <td>48.781933</td>\n",
              "      <td>115.263077</td>\n",
              "      <td>20757.000000</td>\n",
              "      <td>77204.000000</td>\n",
              "      <td>1363.000000</td>\n",
              "      <td>500.000000</td>\n",
              "      <td>0.250000</td>\n",
              "      <td>180519.000000</td>\n",
              "      <td>1999.989990</td>\n",
              "      <td>0.500000</td>\n",
              "      <td>5.000000</td>\n",
              "      <td>1999.989990</td>\n",
              "      <td>1939.989990</td>\n",
              "      <td>911.799988</td>\n",
              "      <td>99301.000000</td>\n",
              "      <td>1363.000000</td>\n",
              "      <td>76.000000</td>\n",
              "      <td>NaN</td>\n",
              "      <td>1999.989990</td>\n",
              "      <td>0.0</td>\n",
              "    </tr>\n",
              "  </tbody>\n",
              "</table>\n",
              "</div>"
            ],
            "text/plain": [
              "       Days for shipping (real)  ...  Product Status\n",
              "count             180519.000000  ...        180519.0\n",
              "mean                   3.497654  ...             0.0\n",
              "std                    1.623722  ...             0.0\n",
              "min                    0.000000  ...             0.0\n",
              "25%                    2.000000  ...             0.0\n",
              "50%                    3.000000  ...             0.0\n",
              "75%                    5.000000  ...             0.0\n",
              "max                    6.000000  ...             0.0\n",
              "\n",
              "[8 rows x 29 columns]"
            ]
          },
          "metadata": {
            "tags": []
          },
          "execution_count": 6
        }
      ]
    },
    {
      "cell_type": "markdown",
      "metadata": {
        "id": "NWjTlqkIMNH6"
      },
      "source": [
        "##Outliers:\n",
        "\n",
        "Benefit per order, Sales per customer, Customer Id, Order Customer Id, Order Item Discount, Order Item Product Price, Sales, Order Item Total, Order Profit Per Order, Product Price"
      ]
    },
    {
      "cell_type": "code",
      "metadata": {
        "id": "f17rHETFMpfP",
        "colab": {
          "base_uri": "https://localhost:8080/",
          "height": 281
        },
        "outputId": "1a398583-f275-4c78-f5c7-5229d983e3d4"
      },
      "source": [
        "df.boxplot(column = ['Benefit per order', 'Order Profit Per Order', 'Product Price'])"
      ],
      "execution_count": 7,
      "outputs": [
        {
          "output_type": "execute_result",
          "data": {
            "text/plain": [
              "<matplotlib.axes._subplots.AxesSubplot at 0x7f579ceef610>"
            ]
          },
          "metadata": {
            "tags": []
          },
          "execution_count": 7
        },
        {
          "output_type": "display_data",
          "data": {
            "image/png": "[encoded data removed]",
            "text/plain": [
              "<Figure size 432x288 with 1 Axes>"
            ]
          },
          "metadata": {
            "tags": [],
            "needs_background": "light"
          }
        }
      ]
    },
    {
      "cell_type": "code",
      "metadata": {
        "id": "gx_Ne0H6r-03",
        "colab": {
          "base_uri": "https://localhost:8080/",
          "height": 281
        },
        "outputId": "853438ca-b208-4515-d456-6000ee7d42c0"
      },
      "source": [
        "df.boxplot(column = [ 'Sales per customer', 'Order Item Discount', 'Order Item Product Price', 'Sales', 'Order Item Total'])"
      ],
      "execution_count": 8,
      "outputs": [
        {
          "output_type": "execute_result",
          "data": {
            "text/plain": [
              "<matplotlib.axes._subplots.AxesSubplot at 0x7f57b89335d0>"
            ]
          },
          "metadata": {
            "tags": []
          },
          "execution_count": 8
        },
        {
          "output_type": "display_data",
          "data": {
            "image/png": "[encoded data removed]",
            "text/plain": [
              "<Figure size 432x288 with 1 Axes>"
            ]
          },
          "metadata": {
            "tags": [],
            "needs_background": "light"
          }
        }
      ]
    },
    {
      "cell_type": "code",
      "metadata": {
        "id": "s5bS8vdbrVsd",
        "colab": {
          "base_uri": "https://localhost:8080/",
          "height": 281
        },
        "outputId": "da4ed689-4a6f-49a4-ee5b-32978061b7c9"
      },
      "source": [
        "df.boxplot(column = ['Customer Id','Order Customer Id'])"
      ],
      "execution_count": 9,
      "outputs": [
        {
          "output_type": "execute_result",
          "data": {
            "text/plain": [
              "<matplotlib.axes._subplots.AxesSubplot at 0x7f579c897450>"
            ]
          },
          "metadata": {
            "tags": []
          },
          "execution_count": 9
        },
        {
          "output_type": "display_data",
          "data": {
            "image/png": "[encoded data removed]",
            "text/plain": [
              "<Figure size 432x288 with 1 Axes>"
            ]
          },
          "metadata": {
            "tags": [],
            "needs_background": "light"
          }
        }
      ]
    },
    {
      "cell_type": "code",
      "metadata": {
        "id": "3GorV_7CHOxF",
        "colab": {
          "base_uri": "https://localhost:8080/"
        },
        "outputId": "4bcf0ea6-90e3-4fa2-8b89-7e15b1bc383c"
      },
      "source": [
        "df.isnull().sum()"
      ],
      "execution_count": 10,
      "outputs": [
        {
          "output_type": "execute_result",
          "data": {
            "text/plain": [
              "Type                                  0\n",
              "Days for shipping (real)              0\n",
              "Days for shipment (scheduled)         0\n",
              "Benefit per order                     0\n",
              "Sales per customer                    0\n",
              "Delivery Status                       0\n",
              "Late_delivery_risk                    0\n",
              "Category Id                           0\n",
              "Category Name                         0\n",
              "Customer City                         0\n",
              "Customer Country                      0\n",
              "Customer Email                        0\n",
              "Customer Fname                        0\n",
              "Customer Id                           0\n",
              "Customer Lname                        8\n",
              "Customer Password                     0\n",
              "Customer Segment                      0\n",
              "Customer State                        0\n",
              "Customer Street                       0\n",
              "Customer Zipcode                      3\n",
              "Department Id                         0\n",
              "Department Name                       0\n",
              "Latitude                              0\n",
              "Longitude                             0\n",
              "Market                                0\n",
              "Order City                            0\n",
              "Order Country                         0\n",
              "Order Customer Id                     0\n",
              "order date (DateOrders)               0\n",
              "Order Id                              0\n",
              "Order Item Cardprod Id                0\n",
              "Order Item Discount                   0\n",
              "Order Item Discount Rate              0\n",
              "Order Item Id                         0\n",
              "Order Item Product Price              0\n",
              "Order Item Profit Ratio               0\n",
              "Order Item Quantity                   0\n",
              "Sales                                 0\n",
              "Order Item Total                      0\n",
              "Order Profit Per Order                0\n",
              "Order Region                          0\n",
              "Order State                           0\n",
              "Order Status                          0\n",
              "Order Zipcode                    155679\n",
              "Product Card Id                       0\n",
              "Product Category Id                   0\n",
              "Product Description              180519\n",
              "Product Image                         0\n",
              "Product Name                          0\n",
              "Product Price                         0\n",
              "Product Status                        0\n",
              "shipping date (DateOrders)            0\n",
              "Shipping Mode                         0\n",
              "dtype: int64"
            ]
          },
          "metadata": {
            "tags": []
          },
          "execution_count": 10
        }
      ]
    },
    {
      "cell_type": "code",
      "metadata": {
        "id": "2tCfuseNHOfX",
        "colab": {
          "base_uri": "https://localhost:8080/"
        },
        "outputId": "f962e13a-de26-45f9-d702-a1bda6671e29"
      },
      "source": [
        "df.nunique()  #Gives the no:of unique rows in each column. "
      ],
      "execution_count": 11,
      "outputs": [
        {
          "output_type": "execute_result",
          "data": {
            "text/plain": [
              "Type                                  4\n",
              "Days for shipping (real)              7\n",
              "Days for shipment (scheduled)         4\n",
              "Benefit per order                 21998\n",
              "Sales per customer                 2927\n",
              "Delivery Status                       4\n",
              "Late_delivery_risk                    2\n",
              "Category Id                          51\n",
              "Category Name                        50\n",
              "Customer City                       563\n",
              "Customer Country                      2\n",
              "Customer Email                        1\n",
              "Customer Fname                      782\n",
              "Customer Id                       20652\n",
              "Customer Lname                     1109\n",
              "Customer Password                     1\n",
              "Customer Segment                      3\n",
              "Customer State                       46\n",
              "Customer Street                    7458\n",
              "Customer Zipcode                    995\n",
              "Department Id                        11\n",
              "Department Name                      11\n",
              "Latitude                          11250\n",
              "Longitude                          4487\n",
              "Market                                5\n",
              "Order City                         3597\n",
              "Order Country                       164\n",
              "Order Customer Id                 20652\n",
              "order date (DateOrders)           65752\n",
              "Order Id                          65752\n",
              "Order Item Cardprod Id              118\n",
              "Order Item Discount                1017\n",
              "Order Item Discount Rate             18\n",
              "Order Item Id                    180519\n",
              "Order Item Product Price             75\n",
              "Order Item Profit Ratio             162\n",
              "Order Item Quantity                   5\n",
              "Sales                               193\n",
              "Order Item Total                   2927\n",
              "Order Profit Per Order            21998\n",
              "Order Region                         23\n",
              "Order State                        1089\n",
              "Order Status                          9\n",
              "Order Zipcode                       609\n",
              "Product Card Id                     118\n",
              "Product Category Id                  51\n",
              "Product Description                   0\n",
              "Product Image                       118\n",
              "Product Name                        118\n",
              "Product Price                        75\n",
              "Product Status                        1\n",
              "shipping date (DateOrders)        63701\n",
              "Shipping Mode                         4\n",
              "dtype: int64"
            ]
          },
          "metadata": {
            "tags": []
          },
          "execution_count": 11
        }
      ]
    },
    {
      "cell_type": "markdown",
      "metadata": {
        "id": "MDIUZxa1ibf1"
      },
      "source": [
        "# 2. RELATIONSHIP ANALYSIS"
      ]
    },
    {
      "cell_type": "code",
      "metadata": {
        "id": "gODahMnPkAFs",
        "colab": {
          "base_uri": "https://localhost:8080/",
          "height": 498
        },
        "outputId": "fa27326d-50e7-45fa-bd43-5bc51bbe94f9"
      },
      "source": [
        "plt.rcParams['figure.figsize'] = 16,8\n",
        "sns.countplot(x = 'Order Status', data = df)\n",
        "plt.show()"
      ],
      "execution_count": 12,
      "outputs": [
        {
          "output_type": "display_data",
          "data": {
            "image/png": "[encoded data removed]",
            "text/plain": [
              "<Figure size 1152x576 with 1 Axes>"
            ]
          },
          "metadata": {
            "tags": [],
            "needs_background": "light"
          }
        }
      ]
    },
    {
      "cell_type": "code",
      "metadata": {
        "id": "JyPViaIomKg6",
        "colab": {
          "base_uri": "https://localhost:8080/",
          "height": 383
        },
        "outputId": "b475295a-7f82-4920-9ea0-868585555d32"
      },
      "source": [
        "sns.catplot( x = 'Order Item Quantity', hue = 'Late_delivery_risk', kind = 'count',  data = df )\n",
        "plt.show()"
      ],
      "execution_count": 13,
      "outputs": [
        {
          "output_type": "display_data",
          "data": {
            "image/png": "[encoded data removed]",
            "text/plain": [
              "<Figure size 457.875x360 with 1 Axes>"
            ]
          },
          "metadata": {
            "tags": [],
            "needs_background": "light"
          }
        }
      ]
    },
    {
      "cell_type": "code",
      "metadata": {
        "id": "agHYAgvpoEz2",
        "colab": {
          "base_uri": "https://localhost:8080/",
          "height": 517
        },
        "outputId": "dcc66b59-864d-4f7b-8793-71537087172c"
      },
      "source": [
        "sns.violinplot(x = 'Department Name', y = 'Order Item Quantity', hue = 'Late_delivery_risk', data = df , split = True)"
      ],
      "execution_count": 14,
      "outputs": [
        {
          "output_type": "execute_result",
          "data": {
            "text/plain": [
              "<matplotlib.axes._subplots.AxesSubplot at 0x7f579c79f710>"
            ]
          },
          "metadata": {
            "tags": []
          },
          "execution_count": 14
        },
        {
          "output_type": "display_data",
          "data": {
            "image/png": "[encoded data removed]",
            "text/plain": [
              "<Figure size 1152x576 with 1 Axes>"
            ]
          },
          "metadata": {
            "tags": [],
            "needs_background": "light"
          }
        }
      ]
    },
    {
      "cell_type": "markdown",
      "metadata": {
        "id": "dpT0Yfkjsh_s"
      },
      "source": [
        "#3. CLEANING DATA"
      ]
    },
    {
      "cell_type": "markdown",
      "metadata": {
        "id": "vZ9wx0f3sthv"
      },
      "source": [
        "### 3.1. We have seen 'Order Zipcode' and 'Product Description' are having almost all rows with NaN. So removing these colums."
      ]
    },
    {
      "cell_type": "code",
      "metadata": {
        "id": "a4KQYqSFxEW0"
      },
      "source": [
        "df=df.drop(['Order Zipcode','Product Description'],axis=1)"
      ],
      "execution_count": 15,
      "outputs": []
    },
    {
      "cell_type": "markdown",
      "metadata": {
        "id": "1t_pTkUK1SsX"
      },
      "source": [
        "### 3.2. Removing 'Customer Email' and 'Customer Password' \n",
        "\n",
        "No information is provided."
      ]
    },
    {
      "cell_type": "code",
      "metadata": {
        "id": "fGiOR5u22LNy"
      },
      "source": [
        "df=df.drop(['Customer Email','Customer Password'],axis=1)"
      ],
      "execution_count": 16,
      "outputs": []
    },
    {
      "cell_type": "markdown",
      "metadata": {
        "id": "34qQFrTtv_e_"
      },
      "source": [
        "###3.3. Cleaning the wrong format.\n",
        "'Order Date' and 'shipping date' column"
      ]
    },
    {
      "cell_type": "code",
      "metadata": {
        "id": "wQOvHb88wMOH"
      },
      "source": [
        "df['order date (DateOrders)'] = pd.to_datetime(df['order date (DateOrders)'])"
      ],
      "execution_count": 17,
      "outputs": []
    },
    {
      "cell_type": "code",
      "metadata": {
        "id": "MkHbEwNf9VF8"
      },
      "source": [
        "df['shipping date (DateOrders)'] = pd.to_datetime(df['shipping date (DateOrders)'])"
      ],
      "execution_count": 18,
      "outputs": []
    },
    {
      "cell_type": "markdown",
      "metadata": {
        "id": "RTPWwdOd3Ddo"
      },
      "source": [
        "### 3.4. Removing Duplicate columns"
      ]
    },
    {
      "cell_type": "code",
      "metadata": {
        "id": "1kr5ms-vECha"
      },
      "source": [
        "df=df.drop(['Sales per customer'],axis=1)  # 'Sales per customer' = 'Order Item Total'"
      ],
      "execution_count": 19,
      "outputs": []
    },
    {
      "cell_type": "code",
      "metadata": {
        "id": "Y0DcTHWxEZZN"
      },
      "source": [
        "df=df.drop(['Product Price'],axis=1)  # 'Product Price'='Order Item Product Price'"
      ],
      "execution_count": 20,
      "outputs": []
    },
    {
      "cell_type": "code",
      "metadata": {
        "id": "LOe-1J2sQdj4"
      },
      "source": [
        "df=df.drop(['Benefit per order'],axis=1)  # 'Benefit per order'='Order Profit Per Order'"
      ],
      "execution_count": 21,
      "outputs": []
    },
    {
      "cell_type": "code",
      "metadata": {
        "id": "CU_RQwsqUKcZ"
      },
      "source": [
        "df=df.drop(['Order Customer Id'],axis=1)  # 'Customer Id'='Order Customer Id'"
      ],
      "execution_count": 22,
      "outputs": []
    },
    {
      "cell_type": "code",
      "metadata": {
        "id": "gI5003YFEyse",
        "colab": {
          "base_uri": "https://localhost:8080/"
        },
        "outputId": "63fff33b-fa1e-44f0-a4f2-1bcc3bf60a4d"
      },
      "source": [
        "df.shape"
      ],
      "execution_count": 23,
      "outputs": [
        {
          "output_type": "execute_result",
          "data": {
            "text/plain": [
              "(180519, 45)"
            ]
          },
          "metadata": {
            "tags": []
          },
          "execution_count": 23
        }
      ]
    },
    {
      "cell_type": "markdown",
      "metadata": {
        "id": "5hNRv-lFHnkx"
      },
      "source": [
        "### 3.5. Removing Unwanted rows and columns"
      ]
    },
    {
      "cell_type": "markdown",
      "metadata": {
        "id": "AtBXWhKE3954"
      },
      "source": [
        "1.Rows\n",
        "\n",
        "If the 'Order Status' is CANCELED or CLOSED, then there is no need of the data of that row. "
      ]
    },
    {
      "cell_type": "code",
      "metadata": {
        "id": "2LYXypI4GvZy"
      },
      "source": [
        "df = df.drop(index = df[df['Order Status'] == 'CANCELED'].index)"
      ],
      "execution_count": 24,
      "outputs": []
    },
    {
      "cell_type": "code",
      "metadata": {
        "id": "_cVB3hbxG_d1"
      },
      "source": [
        "df = df.drop(index = df[df['Order Status'] == 'CLOSED'].index)"
      ],
      "execution_count": 25,
      "outputs": []
    },
    {
      "cell_type": "markdown",
      "metadata": {
        "id": "Saiq05hRHH8G"
      },
      "source": [
        "2.Columns (Unwanted)"
      ]
    },
    {
      "cell_type": "code",
      "metadata": {
        "id": "OdSa9uN0ISbo",
        "colab": {
          "base_uri": "https://localhost:8080/"
        },
        "outputId": "749e1598-721f-487c-961a-921905c0d157"
      },
      "source": [
        "df.columns"
      ],
      "execution_count": 26,
      "outputs": [
        {
          "output_type": "execute_result",
          "data": {
            "text/plain": [
              "Index(['Type', 'Days for shipping (real)', 'Days for shipment (scheduled)',\n",
              "       'Delivery Status', 'Late_delivery_risk', 'Category Id', 'Category Name',\n",
              "       'Customer City', 'Customer Country', 'Customer Fname', 'Customer Id',\n",
              "       'Customer Lname', 'Customer Segment', 'Customer State',\n",
              "       'Customer Street', 'Customer Zipcode', 'Department Id',\n",
              "       'Department Name', 'Latitude', 'Longitude', 'Market', 'Order City',\n",
              "       'Order Country', 'order date (DateOrders)', 'Order Id',\n",
              "       'Order Item Cardprod Id', 'Order Item Discount',\n",
              "       'Order Item Discount Rate', 'Order Item Id', 'Order Item Product Price',\n",
              "       'Order Item Profit Ratio', 'Order Item Quantity', 'Sales',\n",
              "       'Order Item Total', 'Order Profit Per Order', 'Order Region',\n",
              "       'Order State', 'Order Status', 'Product Card Id', 'Product Category Id',\n",
              "       'Product Image', 'Product Name', 'Product Status',\n",
              "       'shipping date (DateOrders)', 'Shipping Mode'],\n",
              "      dtype='object')"
            ]
          },
          "metadata": {
            "tags": []
          },
          "execution_count": 26
        }
      ]
    },
    {
      "cell_type": "code",
      "metadata": {
        "id": "0PzN1DjqaGnw"
      },
      "source": [
        "df=df.drop(['Type','Category Id', 'Category Name','Customer Fname','Customer Id', 'Customer Lname', 'Customer Segment', 'Customer Street', 'Customer Zipcode',\n",
        "            'Department Id', 'Latitude', 'Longitude', 'Order Id', 'Order Item Cardprod Id','Order Item Id', 'Order Item Profit Ratio','Order Region',\n",
        "            'Product Card Id', 'Product Category Id', 'Product Image','Product Status'],axis=1)"
      ],
      "execution_count": 27,
      "outputs": []
    },
    {
      "cell_type": "markdown",
      "metadata": {
        "id": "PaGBLjMqIAUI"
      },
      "source": [
        "###CORELATION MATRIX:"
      ]
    },
    {
      "cell_type": "code",
      "metadata": {
        "id": "OATVHkh3XZA-",
        "colab": {
          "base_uri": "https://localhost:8080/"
        },
        "outputId": "ffd60f72-7451-400d-b4a5-45766b55fc07"
      },
      "source": [
        "df.shape"
      ],
      "execution_count": 28,
      "outputs": [
        {
          "output_type": "execute_result",
          "data": {
            "text/plain": [
              "(157211, 24)"
            ]
          },
          "metadata": {
            "tags": []
          },
          "execution_count": 28
        }
      ]
    },
    {
      "cell_type": "code",
      "metadata": {
        "id": "KQQkylnstcxa",
        "colab": {
          "base_uri": "https://localhost:8080/",
          "height": 744
        },
        "outputId": "8025dcc4-3e5d-4cfb-f03d-27149c5dc3f1"
      },
      "source": [
        "plt.rcParams['figure.figsize'] = 16,10\n",
        "sns.heatmap(df.corr(), annot = True)"
      ],
      "execution_count": 29,
      "outputs": [
        {
          "output_type": "execute_result",
          "data": {
            "text/plain": [
              "<matplotlib.axes._subplots.AxesSubplot at 0x7f579c74b710>"
            ]
          },
          "metadata": {
            "tags": []
          },
          "execution_count": 29
        },
        {
          "output_type": "display_data",
          "data": {
            "image/png": "[encoded data removed]",
            "text/plain": [
              "<Figure size 1152x720 with 2 Axes>"
            ]
          },
          "metadata": {
            "tags": [],
            "needs_background": "light"
          }
        }
      ]
    },
    {
      "cell_type": "markdown",
      "metadata": {
        "id": "N6Maxd6TzMbu"
      },
      "source": [
        "# Data Frame After Cleaning"
      ]
    },
    {
      "cell_type": "code",
      "metadata": {
        "id": "0hEbpmafuKuC",
        "colab": {
          "base_uri": "https://localhost:8080/",
          "height": 893
        },
        "outputId": "3d3676d9-81a4-422a-ab54-626c783cef2c"
      },
      "source": [
        "df"
      ],
      "execution_count": 30,
      "outputs": [
        {
          "output_type": "execute_result",
          "data": {
            "text/html": [
              "<div>\n",
              "<style scoped>\n",
              "    .dataframe tbody tr th:only-of-type {\n",
              "        vertical-align: middle;\n",
              "    }\n",
              "\n",
              "    .dataframe tbody tr th {\n",
              "        vertical-align: top;\n",
              "    }\n",
              "\n",
              "    .dataframe thead th {\n",
              "        text-align: right;\n",
              "    }\n",
              "</style>\n",
              "<table border=\"1\" class=\"dataframe\">\n",
              "  <thead>\n",
              "    <tr style=\"text-align: right;\">\n",
              "      <th></th>\n",
              "      <th>Days for shipping (real)</th>\n",
              "      <th>Days for shipment (scheduled)</th>\n",
              "      <th>Delivery Status</th>\n",
              "      <th>Late_delivery_risk</th>\n",
              "      <th>Customer City</th>\n",
              "      <th>Customer Country</th>\n",
              "      <th>Customer State</th>\n",
              "      <th>Department Name</th>\n",
              "      <th>Market</th>\n",
              "      <th>Order City</th>\n",
              "      <th>Order Country</th>\n",
              "      <th>order date (DateOrders)</th>\n",
              "      <th>Order Item Discount</th>\n",
              "      <th>Order Item Discount Rate</th>\n",
              "      <th>Order Item Product Price</th>\n",
              "      <th>Order Item Quantity</th>\n",
              "      <th>Sales</th>\n",
              "      <th>Order Item Total</th>\n",
              "      <th>Order Profit Per Order</th>\n",
              "      <th>Order State</th>\n",
              "      <th>Order Status</th>\n",
              "      <th>Product Name</th>\n",
              "      <th>shipping date (DateOrders)</th>\n",
              "      <th>Shipping Mode</th>\n",
              "    </tr>\n",
              "  </thead>\n",
              "  <tbody>\n",
              "    <tr>\n",
              "      <th>0</th>\n",
              "      <td>3</td>\n",
              "      <td>4</td>\n",
              "      <td>Advance shipping</td>\n",
              "      <td>0</td>\n",
              "      <td>Caguas</td>\n",
              "      <td>Puerto Rico</td>\n",
              "      <td>PR</td>\n",
              "      <td>Fitness</td>\n",
              "      <td>Pacific Asia</td>\n",
              "      <td>Bekasi</td>\n",
              "      <td>Indonesia</td>\n",
              "      <td>2018-01-31 22:56:00</td>\n",
              "      <td>13.110000</td>\n",
              "      <td>0.04</td>\n",
              "      <td>327.750000</td>\n",
              "      <td>1</td>\n",
              "      <td>327.750000</td>\n",
              "      <td>314.640015</td>\n",
              "      <td>91.250000</td>\n",
              "      <td>Java Occidental</td>\n",
              "      <td>COMPLETE</td>\n",
              "      <td>Smart watch</td>\n",
              "      <td>2018-02-03 22:56:00</td>\n",
              "      <td>Standard Class</td>\n",
              "    </tr>\n",
              "    <tr>\n",
              "      <th>1</th>\n",
              "      <td>5</td>\n",
              "      <td>4</td>\n",
              "      <td>Late delivery</td>\n",
              "      <td>1</td>\n",
              "      <td>Caguas</td>\n",
              "      <td>Puerto Rico</td>\n",
              "      <td>PR</td>\n",
              "      <td>Fitness</td>\n",
              "      <td>Pacific Asia</td>\n",
              "      <td>Bikaner</td>\n",
              "      <td>India</td>\n",
              "      <td>2018-01-13 12:27:00</td>\n",
              "      <td>16.389999</td>\n",
              "      <td>0.05</td>\n",
              "      <td>327.750000</td>\n",
              "      <td>1</td>\n",
              "      <td>327.750000</td>\n",
              "      <td>311.359985</td>\n",
              "      <td>-249.089996</td>\n",
              "      <td>Rajastán</td>\n",
              "      <td>PENDING</td>\n",
              "      <td>Smart watch</td>\n",
              "      <td>2018-01-18 12:27:00</td>\n",
              "      <td>Standard Class</td>\n",
              "    </tr>\n",
              "    <tr>\n",
              "      <th>3</th>\n",
              "      <td>3</td>\n",
              "      <td>4</td>\n",
              "      <td>Advance shipping</td>\n",
              "      <td>0</td>\n",
              "      <td>Los Angeles</td>\n",
              "      <td>EE. UU.</td>\n",
              "      <td>CA</td>\n",
              "      <td>Fitness</td>\n",
              "      <td>Pacific Asia</td>\n",
              "      <td>Townsville</td>\n",
              "      <td>Australia</td>\n",
              "      <td>2018-01-13 11:45:00</td>\n",
              "      <td>22.940001</td>\n",
              "      <td>0.07</td>\n",
              "      <td>327.750000</td>\n",
              "      <td>1</td>\n",
              "      <td>327.750000</td>\n",
              "      <td>304.809998</td>\n",
              "      <td>22.860001</td>\n",
              "      <td>Queensland</td>\n",
              "      <td>COMPLETE</td>\n",
              "      <td>Smart watch</td>\n",
              "      <td>2018-01-16 11:45:00</td>\n",
              "      <td>Standard Class</td>\n",
              "    </tr>\n",
              "    <tr>\n",
              "      <th>4</th>\n",
              "      <td>2</td>\n",
              "      <td>4</td>\n",
              "      <td>Advance shipping</td>\n",
              "      <td>0</td>\n",
              "      <td>Caguas</td>\n",
              "      <td>Puerto Rico</td>\n",
              "      <td>PR</td>\n",
              "      <td>Fitness</td>\n",
              "      <td>Pacific Asia</td>\n",
              "      <td>Townsville</td>\n",
              "      <td>Australia</td>\n",
              "      <td>2018-01-13 11:24:00</td>\n",
              "      <td>29.500000</td>\n",
              "      <td>0.09</td>\n",
              "      <td>327.750000</td>\n",
              "      <td>1</td>\n",
              "      <td>327.750000</td>\n",
              "      <td>298.250000</td>\n",
              "      <td>134.210007</td>\n",
              "      <td>Queensland</td>\n",
              "      <td>PENDING_PAYMENT</td>\n",
              "      <td>Smart watch</td>\n",
              "      <td>2018-01-15 11:24:00</td>\n",
              "      <td>Standard Class</td>\n",
              "    </tr>\n",
              "    <tr>\n",
              "      <th>6</th>\n",
              "      <td>2</td>\n",
              "      <td>1</td>\n",
              "      <td>Late delivery</td>\n",
              "      <td>1</td>\n",
              "      <td>Caguas</td>\n",
              "      <td>Puerto Rico</td>\n",
              "      <td>PR</td>\n",
              "      <td>Fitness</td>\n",
              "      <td>Pacific Asia</td>\n",
              "      <td>Guangzhou</td>\n",
              "      <td>China</td>\n",
              "      <td>2018-01-13 10:42:00</td>\n",
              "      <td>39.330002</td>\n",
              "      <td>0.12</td>\n",
              "      <td>327.750000</td>\n",
              "      <td>1</td>\n",
              "      <td>327.750000</td>\n",
              "      <td>288.420013</td>\n",
              "      <td>95.180000</td>\n",
              "      <td>Guangdong</td>\n",
              "      <td>COMPLETE</td>\n",
              "      <td>Smart watch</td>\n",
              "      <td>2018-01-15 10:42:00</td>\n",
              "      <td>First Class</td>\n",
              "    </tr>\n",
              "    <tr>\n",
              "      <th>...</th>\n",
              "      <td>...</td>\n",
              "      <td>...</td>\n",
              "      <td>...</td>\n",
              "      <td>...</td>\n",
              "      <td>...</td>\n",
              "      <td>...</td>\n",
              "      <td>...</td>\n",
              "      <td>...</td>\n",
              "      <td>...</td>\n",
              "      <td>...</td>\n",
              "      <td>...</td>\n",
              "      <td>...</td>\n",
              "      <td>...</td>\n",
              "      <td>...</td>\n",
              "      <td>...</td>\n",
              "      <td>...</td>\n",
              "      <td>...</td>\n",
              "      <td>...</td>\n",
              "      <td>...</td>\n",
              "      <td>...</td>\n",
              "      <td>...</td>\n",
              "      <td>...</td>\n",
              "      <td>...</td>\n",
              "      <td>...</td>\n",
              "    </tr>\n",
              "    <tr>\n",
              "      <th>180513</th>\n",
              "      <td>3</td>\n",
              "      <td>4</td>\n",
              "      <td>Advance shipping</td>\n",
              "      <td>0</td>\n",
              "      <td>Lancaster</td>\n",
              "      <td>EE. UU.</td>\n",
              "      <td>OH</td>\n",
              "      <td>Fan Shop</td>\n",
              "      <td>Pacific Asia</td>\n",
              "      <td>Shanghái</td>\n",
              "      <td>China</td>\n",
              "      <td>2016-01-16 05:04:00</td>\n",
              "      <td>100.000000</td>\n",
              "      <td>0.25</td>\n",
              "      <td>399.980011</td>\n",
              "      <td>1</td>\n",
              "      <td>399.980011</td>\n",
              "      <td>299.989990</td>\n",
              "      <td>119.989998</td>\n",
              "      <td>Shanghái</td>\n",
              "      <td>PENDING_PAYMENT</td>\n",
              "      <td>Field &amp; Stream Sportsman 16 Gun Fire Safe</td>\n",
              "      <td>2016-01-19 05:04:00</td>\n",
              "      <td>Standard Class</td>\n",
              "    </tr>\n",
              "    <tr>\n",
              "      <th>180515</th>\n",
              "      <td>3</td>\n",
              "      <td>2</td>\n",
              "      <td>Late delivery</td>\n",
              "      <td>1</td>\n",
              "      <td>Bakersfield</td>\n",
              "      <td>EE. UU.</td>\n",
              "      <td>CA</td>\n",
              "      <td>Fan Shop</td>\n",
              "      <td>Pacific Asia</td>\n",
              "      <td>Hirakata</td>\n",
              "      <td>Japón</td>\n",
              "      <td>2016-01-16 01:34:00</td>\n",
              "      <td>4.000000</td>\n",
              "      <td>0.01</td>\n",
              "      <td>399.980011</td>\n",
              "      <td>1</td>\n",
              "      <td>399.980011</td>\n",
              "      <td>395.980011</td>\n",
              "      <td>-613.770019</td>\n",
              "      <td>Osaka</td>\n",
              "      <td>COMPLETE</td>\n",
              "      <td>Field &amp; Stream Sportsman 16 Gun Fire Safe</td>\n",
              "      <td>2016-01-19 01:34:00</td>\n",
              "      <td>Second Class</td>\n",
              "    </tr>\n",
              "    <tr>\n",
              "      <th>180516</th>\n",
              "      <td>5</td>\n",
              "      <td>4</td>\n",
              "      <td>Late delivery</td>\n",
              "      <td>1</td>\n",
              "      <td>Bristol</td>\n",
              "      <td>EE. UU.</td>\n",
              "      <td>CT</td>\n",
              "      <td>Fan Shop</td>\n",
              "      <td>Pacific Asia</td>\n",
              "      <td>Adelaide</td>\n",
              "      <td>Australia</td>\n",
              "      <td>2016-01-15 21:00:00</td>\n",
              "      <td>8.000000</td>\n",
              "      <td>0.02</td>\n",
              "      <td>399.980011</td>\n",
              "      <td>1</td>\n",
              "      <td>399.980011</td>\n",
              "      <td>391.980011</td>\n",
              "      <td>141.110001</td>\n",
              "      <td>Australia del Sur</td>\n",
              "      <td>PENDING</td>\n",
              "      <td>Field &amp; Stream Sportsman 16 Gun Fire Safe</td>\n",
              "      <td>2016-01-20 21:00:00</td>\n",
              "      <td>Standard Class</td>\n",
              "    </tr>\n",
              "    <tr>\n",
              "      <th>180517</th>\n",
              "      <td>3</td>\n",
              "      <td>4</td>\n",
              "      <td>Advance shipping</td>\n",
              "      <td>0</td>\n",
              "      <td>Caguas</td>\n",
              "      <td>Puerto Rico</td>\n",
              "      <td>PR</td>\n",
              "      <td>Fan Shop</td>\n",
              "      <td>Pacific Asia</td>\n",
              "      <td>Adelaide</td>\n",
              "      <td>Australia</td>\n",
              "      <td>2016-01-15 20:18:00</td>\n",
              "      <td>12.000000</td>\n",
              "      <td>0.03</td>\n",
              "      <td>399.980011</td>\n",
              "      <td>1</td>\n",
              "      <td>399.980011</td>\n",
              "      <td>387.980011</td>\n",
              "      <td>186.229996</td>\n",
              "      <td>Australia del Sur</td>\n",
              "      <td>PENDING_PAYMENT</td>\n",
              "      <td>Field &amp; Stream Sportsman 16 Gun Fire Safe</td>\n",
              "      <td>2016-01-18 20:18:00</td>\n",
              "      <td>Standard Class</td>\n",
              "    </tr>\n",
              "    <tr>\n",
              "      <th>180518</th>\n",
              "      <td>4</td>\n",
              "      <td>4</td>\n",
              "      <td>Shipping on time</td>\n",
              "      <td>0</td>\n",
              "      <td>Caguas</td>\n",
              "      <td>Puerto Rico</td>\n",
              "      <td>PR</td>\n",
              "      <td>Fan Shop</td>\n",
              "      <td>Pacific Asia</td>\n",
              "      <td>Nagercoil</td>\n",
              "      <td>India</td>\n",
              "      <td>2016-01-15 18:54:00</td>\n",
              "      <td>16.000000</td>\n",
              "      <td>0.04</td>\n",
              "      <td>399.980011</td>\n",
              "      <td>1</td>\n",
              "      <td>399.980011</td>\n",
              "      <td>383.980011</td>\n",
              "      <td>168.949997</td>\n",
              "      <td>Tamil Nadu</td>\n",
              "      <td>PENDING_PAYMENT</td>\n",
              "      <td>Field &amp; Stream Sportsman 16 Gun Fire Safe</td>\n",
              "      <td>2016-01-19 18:54:00</td>\n",
              "      <td>Standard Class</td>\n",
              "    </tr>\n",
              "  </tbody>\n",
              "</table>\n",
              "<p>157211 rows × 24 columns</p>\n",
              "</div>"
            ],
            "text/plain": [
              "        Days for shipping (real)  ...   Shipping Mode\n",
              "0                              3  ...  Standard Class\n",
              "1                              5  ...  Standard Class\n",
              "3                              3  ...  Standard Class\n",
              "4                              2  ...  Standard Class\n",
              "6                              2  ...     First Class\n",
              "...                          ...  ...             ...\n",
              "180513                         3  ...  Standard Class\n",
              "180515                         3  ...    Second Class\n",
              "180516                         5  ...  Standard Class\n",
              "180517                         3  ...  Standard Class\n",
              "180518                         4  ...  Standard Class\n",
              "\n",
              "[157211 rows x 24 columns]"
            ]
          },
          "metadata": {
            "tags": []
          },
          "execution_count": 30
        }
      ]
    },
    {
      "cell_type": "markdown",
      "metadata": {
        "id": "UPYsvSjJxY22"
      },
      "source": [
        "#4. QUESTIONS"
      ]
    },
    {
      "cell_type": "markdown",
      "metadata": {
        "id": "lB7KH3YAxias"
      },
      "source": [
        "###1) List all the cities and the respective number of pending orders in 'India'?\n",
        "###2) Which country has the most suspected fraud?\n",
        "###3) Which product(s) has/have the maximum discount?\n",
        "###4) Which year had the minimum sales for \"Nike\" products?\n",
        "###5) How many successfully processed orders have days for shipping real (Real) > Days for shipment (Scheduled)?\n"
      ]
    },
    {
      "cell_type": "markdown",
      "metadata": {
        "id": "UjIvI6uOyPmo"
      },
      "source": [
        "###1) List all the cities and the respective number of pending orders in 'India'?"
      ]
    },
    {
      "cell_type": "code",
      "metadata": {
        "id": "LM1nILjz2yh8",
        "colab": {
          "base_uri": "https://localhost:8080/"
        },
        "outputId": "17baf5cb-cdfb-4336-bb42-d73af630978b"
      },
      "source": [
        "df1 = df[df['Order Country'] == 'India']\n",
        "cities = {}\n",
        "for i in set(df1['Order City']):\n",
        "  arr1 = df1[df1['Order City'] == i]\n",
        "  arr1 = arr1[arr1['Order Status'] == \"PENDING\"]\n",
        "  cities[i] = len(arr1)\n",
        "\n",
        "print('Cities with their respective no:of pending orders in India:\\n',cities)"
      ],
      "execution_count": 42,
      "outputs": [
        {
          "output_type": "stream",
          "text": [
            "Cities with their respective no:of pending orders in India:\n",
            " {'Kulti': 8, 'Mau': 0, 'Hubli': 1, 'Durgapur': 11, 'Barddhaman': 0, 'Amravati': 3, 'Mumbai': 18, 'Mirzapur': 0, 'Dhule': 0, 'Gulbarga': 1, 'Kollam': 3, 'Mangalore': 2, 'Moradabad': 5, 'Tiruppur': 1, 'Panipat': 0, 'Faridabad': 10, 'Jabalpur': 11, 'Hapur': 0, 'Patiala': 1, 'Jamnagar': 1, 'Pimpri': 1, 'Aligarh': 4, 'Bhiwandi': 3, 'Indore': 0, 'Patna': 7, 'Bilaspur': 1, 'Gwalior': 0, 'Bhatinda': 0, 'Naihati': 0, 'Avadi': 0, 'Udaipur': 0, 'Jhansi': 4, 'Meerut': 2, 'Anantapur': 3, 'Sonipat': 0, 'Panihati': 0, 'Thiruvananthapuram': 3, 'Kozhikode': 0, 'Gaya': 0, 'Kochi': 0, 'Ranchi': 5, 'Imphal': 5, 'Dehra Dun': 0, 'Allahabad': 0, 'Bangalore': 24, 'Tirupati': 0, 'Puducherry': 3, 'Rohtak': 5, 'Barasat': 0, 'Raipur': 8, 'Bhubaneswar': 6, 'Bareilly': 0, 'Malegaon': 4, 'Korba': 14, 'Tiruchchirappalli': 0, 'Thanjavur': 0, 'Surat': 7, 'Satna': 5, 'Ajmer': 17, 'Kolhapur': 3, 'Thane': 1, 'Guwahati': 8, 'Jaipur': 9, 'Ludhiana': 2, 'Jodhpur': 7, 'New Delhi': 0, 'Ichalkaranji': 1, 'Solapur': 3, 'Cuttack': 0, 'Bhatpara': 0, 'Rajkot': 2, 'Pune': 24, 'Madurai': 1, 'Brahmapur': 1, 'Nizamabad': 0, 'Gorakhpur': 12, 'Ganganagar': 1, 'Chennai': 12, 'Saharanpur': 4, 'Darbhanga': 9, 'Akola': 0, 'Tirunelveli': 5, 'Visakhapatnam': 15, 'Fatehpur': 1, 'Jammu': 3, 'Tumkur': 0, 'Warangal': 1, 'Ulhasnagar': 5, 'Aurangabad': 1, 'Hisar': 1, 'Jamshedpur': 0, 'Lucknow': 21, 'Agra': 7, 'Bhopal': 1, 'Varanasi': 0, 'Bharatpur': 0, 'Delhi': 18, 'Bokaro': 5, 'Karimnagar': 0, 'Shahjahanpur': 0, 'Ghaziabad': 1, 'Hyderabad': 17, 'Srinagar': 4, 'Nellore': 3, 'Bhilai': 0, 'Nasik': 6, 'Parbhani': 3, 'Baranagar': 0, 'Vadodara': 1, 'Ujjain': 5, 'Kamarhati': 2, 'Mysore': 4, 'Guntur': 0, 'Kakinada': 0, 'Bihar Sharif': 2, 'Amritsar': 6, 'Kota': 7, 'Etawah': 0, 'Nagercoil': 0, 'Durg': 4, 'Coimbatore': 5, 'Kalyan': 0, 'Sangli': 0, 'Mathura': 0, 'Salem': 7, 'Ratlam': 0, 'Jalna': 0, 'Chandigarh': 1, 'Nagpur': 13, 'Latur': 0, 'Ambattur': 0, 'Muzaffarpur': 3, 'Firozabad': 0, 'Karnal': 0, 'Shimoga': 3, 'Dewas': 6, 'Kukatpalli': 0, 'Bhilwara': 0, 'Asansol': 0, 'Bijapur': 0, 'Kanpur': 25, 'Vijayawada': 0, 'Belgaum': 8, 'Bikaner': 1, 'Bhavnagar': 3, 'Bellary': 6}\n"
          ],
          "name": "stdout"
        }
      ]
    },
    {
      "cell_type": "markdown",
      "metadata": {
        "id": "iSWUmvqj9v2w"
      },
      "source": [
        "####* **Verification**"
      ]
    },
    {
      "cell_type": "code",
      "metadata": {
        "id": "HDn8hutn6Bam",
        "colab": {
          "base_uri": "https://localhost:8080/",
          "height": 497
        },
        "outputId": "2a6784c1-ae67-4d94-b522-bcb4efd0f138"
      },
      "source": [
        "plt.rcParams['figure.figsize'] = 10,8\n",
        "df5 =df[df['Order City'] == 'Kulti']    # Just for example, any city can be taken.\n",
        "sns.countplot(x = 'Order City', data = df5[df5['Order Status'] == 'PENDING'])\n",
        "plt.show()"
      ],
      "execution_count": 39,
      "outputs": [
        {
          "output_type": "display_data",
          "data": {
            "image/png": "[encoded data removed]",
            "text/plain": [
              "<Figure size 720x576 with 1 Axes>"
            ]
          },
          "metadata": {
            "tags": [],
            "needs_background": "light"
          }
        }
      ]
    },
    {
      "cell_type": "markdown",
      "metadata": {
        "id": "EWJ5XkP6-ztv"
      },
      "source": [
        "### 2) Which country has the most suspected fraud?"
      ]
    },
    {
      "cell_type": "code",
      "metadata": {
        "id": "gfVnYsQn-t4k",
        "colab": {
          "base_uri": "https://localhost:8080/"
        },
        "outputId": "d4bfbc3c-92e5-4687-de6f-16c5a5faeeb7"
      },
      "source": [
        "country = []\n",
        "max = 0\n",
        "\n",
        "for i in set(df['Order Country']):\n",
        "  arr2 = df[df['Order Country'] == i]\n",
        "  arr2 = arr2[arr2['Order Status'] == \"SUSPECTED_FRAUD\"]\n",
        "  temp = len(arr2)\n",
        "  if temp > max:\n",
        "    max = temp\n",
        "    country.clear()\n",
        "    country.append(i)\n",
        "  elif temp == max:\n",
        "    country.append(i)\n",
        "print('Most suspected frauds are in:\\n',country,'country')"
      ],
      "execution_count": 44,
      "outputs": [
        {
          "output_type": "stream",
          "text": [
            "Most suspected frauds are in:\n",
            " ['Estados Unidos'] country\n"
          ],
          "name": "stdout"
        }
      ]
    },
    {
      "cell_type": "markdown",
      "metadata": {
        "id": "CXmfJyUOFUvH"
      },
      "source": [
        "#### * **Verification**"
      ]
    },
    {
      "cell_type": "code",
      "metadata": {
        "id": "_8e9KAf6D41m",
        "colab": {
          "base_uri": "https://localhost:8080/",
          "height": 399
        },
        "outputId": "3f7f148f-708f-4814-da64-841209182145"
      },
      "source": [
        "plt.rcParams['figure.figsize'] = 150,60\n",
        "df6 =df[df['Order Status'] == \"SUSPECTED_FRAUD\"]\n",
        "sns.countplot(x = 'Order Country', data = df6)\n",
        "plt.show()                                               # 3rd Bar represents the highest suspected fraud"
      ],
      "execution_count": 36,
      "outputs": [
        {
          "output_type": "display_data",
          "data": {
            "image/png": "[encoded data removed]",
            "text/plain": [
              "<Figure size 10800x4320 with 1 Axes>"
            ]
          },
          "metadata": {
            "tags": [],
            "needs_background": "light"
          }
        }
      ]
    },
    {
      "cell_type": "markdown",
      "metadata": {
        "id": "4tDJeGmmDN-y"
      },
      "source": [
        "### 3) Which product(s) has/have the maximum discount?"
      ]
    },
    {
      "cell_type": "code",
      "metadata": {
        "id": "tgzltHYgDT7Q",
        "colab": {
          "base_uri": "https://localhost:8080/"
        },
        "outputId": "8db14202-ec24-45e3-8db7-c9add903bd5f"
      },
      "source": [
        "max_dis = df['Order Item Discount'].max()\n",
        "arr3 = df[df['Order Item Discount'] == max_dis]\n",
        "print(\"Maximum discount has for:\",list(arr3['Product Name']))\n"
      ],
      "execution_count": 37,
      "outputs": [
        {
          "output_type": "stream",
          "text": [
            "Maximum discount has for: ['SOLE E35 Elliptical']\n"
          ],
          "name": "stdout"
        }
      ]
    },
    {
      "cell_type": "markdown",
      "metadata": {
        "id": "xpn1YdMGJY0B"
      },
      "source": [
        "### 5) How many successfully processed orders have days for shipping real (Real) > Days for shipment (Scheduled)?"
      ]
    },
    {
      "cell_type": "code",
      "metadata": {
        "colab": {
          "base_uri": "https://localhost:8080/"
        },
        "id": "bOY3V5hU5QFq",
        "outputId": "4380f405-3020-4647-d2fc-289de3fb2b84"
      },
      "source": [
        "arr5 = df[df['Order Status'] == 'COMPLETE']\n",
        "a = []\n",
        "for j in arr5['Days for shipment (scheduled)']:\n",
        "  a.append(j)\n",
        "\n",
        "i = 0\n",
        "count = 0\n",
        "for k in arr5['Days for shipping (real)']:\n",
        "  if k > a[i]:\n",
        "    count = count + 1\n",
        "  i = i + 1\n",
        "\n",
        "print('No:of orders for required condition is: ',count)"
      ],
      "execution_count": 46,
      "outputs": [
        {
          "output_type": "stream",
          "text": [
            "No:of orders for required condition is:  34199\n"
          ],
          "name": "stdout"
        }
      ]
    }
  ]
}